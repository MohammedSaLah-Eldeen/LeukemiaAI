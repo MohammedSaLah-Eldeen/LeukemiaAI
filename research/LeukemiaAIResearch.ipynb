{
 "cells": [
  {
   "cell_type": "markdown",
   "id": "d924cb53",
   "metadata": {
    "papermill": {
     "duration": 0.011196,
     "end_time": "2023-12-02T22:33:29.569974",
     "exception": false,
     "start_time": "2023-12-02T22:33:29.558778",
     "status": "completed"
    },
    "tags": []
   },
   "source": [
    "# **LeukemiaAI**\n",
    "\n",
    "**A Revolutionary Tool in the Fight Against ALL** <br>\n",
    "a fully integrated AI Classification pipeline to detect Acute lymphocytic leukemia (ALL)\n",
    "\n",
    "\n",
    "**github repo**: https://github.com/MohammedSaLah-Eldeen/LeukemiaAI <br>\n",
    "**fine-tuned Model**: https://huggingface.co/SuperMaker/vit-base-patch16-224-in21k-leukemia"
   ]
  },
  {
   "cell_type": "markdown",
   "id": "15fa4711",
   "metadata": {
    "papermill": {
     "duration": 0.010271,
     "end_time": "2023-12-02T22:33:29.590888",
     "exception": false,
     "start_time": "2023-12-02T22:33:29.580617",
     "status": "completed"
    },
    "tags": []
   },
   "source": [
    "### Leukemia\n",
    "\n",
    "Leukemia is a cancer of the blood cells. It starts in the bone marrow, where new blood cells are made. When you have leukemia, your bone marrow makes too many abnormal blood cells. These cells crowd out the healthy blood cells, which can make you feel tired, weak, and sick.\n",
    "\n",
    "#### Types of Leukemia\n",
    "\n",
    "There are two main types of leukemia: acute and chronic.\n",
    "\n",
    "* **Acute leukemia** is a cancer that can progress quickly. It is the most common type of leukemia in children.\n",
    "* **Chronic leukemia** is a cancer that progresses slowly. It is more common in adults.\n",
    "\n",
    "Leukemia can also be classified by the type of blood cell that is affected. The four main types of leukemia are:\n",
    "\n",
    "* **Acute lymphocytic leukemia (ALL)** is a cancer of lymphocytes, which are a type of white blood cell.\n",
    "* **Acute myeloid leukemia (AML)** is a cancer of myeloid cells, which are a type of white blood cell, red blood cell, or platelet.\n",
    "* **Chronic lymphocytic leukemia (CLL)** is a cancer of lymphocytes.\n",
    "* **Chronic myeloid leukemia (CML)** is a cancer of myeloid cells.\n",
    "\n",
    "Here are some resources for more information about leukemia:\n",
    "\n",
    "* The American Cancer Society: [https://www.cancer.org/cancer/types/leukemia.html](https://www.cancer.org/cancer/types/leukemia.html)\n",
    "* The Leukemia & Lymphoma Society: [https://www.lls.org/](https://www.lls.org/)"
   ]
  },
  {
   "cell_type": "markdown",
   "id": "cb691a0a",
   "metadata": {
    "papermill": {
     "duration": 0.010303,
     "end_time": "2023-12-02T22:33:29.611764",
     "exception": false,
     "start_time": "2023-12-02T22:33:29.601461",
     "status": "completed"
    },
    "tags": []
   },
   "source": [
    "## **Dataset**\n",
    "Visit: https://www.kaggle.com/datasets/andrewmvd/leukemia-classification/data <br>\n",
    "to view the Data Card on Kaggle\n"
   ]
  },
  {
   "cell_type": "code",
   "execution_count": 1,
   "id": "838fadb0",
   "metadata": {
    "execution": {
     "iopub.execute_input": "2023-12-02T22:33:29.633977Z",
     "iopub.status.busy": "2023-12-02T22:33:29.633647Z",
     "iopub.status.idle": "2023-12-02T22:33:42.326722Z",
     "shell.execute_reply": "2023-12-02T22:33:42.325764Z"
    },
    "papermill": {
     "duration": 12.707131,
     "end_time": "2023-12-02T22:33:42.329299",
     "exception": false,
     "start_time": "2023-12-02T22:33:29.622168",
     "status": "completed"
    },
    "tags": []
   },
   "outputs": [
    {
     "name": "stdout",
     "output_type": "stream",
     "text": [
      "Collecting reusables\r\n",
      "  Downloading reusables-0.9.6-py3-none-any.whl (61 kB)\r\n",
      "\u001b[2K     \u001b[90m━━━━━━━━━━━━━━━━━━━━━━━━━━━━━━━━━━━━━━━━\u001b[0m \u001b[32m61.1/61.1 kB\u001b[0m \u001b[31m4.6 MB/s\u001b[0m eta \u001b[36m0:00:00\u001b[0m\r\n",
      "\u001b[?25hInstalling collected packages: reusables\r\n",
      "Successfully installed reusables-0.9.6\r\n"
     ]
    }
   ],
   "source": [
    "%pip install reusables"
   ]
  },
  {
   "cell_type": "code",
   "execution_count": 2,
   "id": "a9764996",
   "metadata": {
    "execution": {
     "iopub.execute_input": "2023-12-02T22:33:42.354330Z",
     "iopub.status.busy": "2023-12-02T22:33:42.353994Z",
     "iopub.status.idle": "2023-12-02T22:33:59.162688Z",
     "shell.execute_reply": "2023-12-02T22:33:59.161705Z"
    },
    "papermill": {
     "duration": 16.823729,
     "end_time": "2023-12-02T22:33:59.164879",
     "exception": false,
     "start_time": "2023-12-02T22:33:42.341150",
     "status": "completed"
    },
    "tags": []
   },
   "outputs": [
    {
     "name": "stderr",
     "output_type": "stream",
     "text": [
      "/opt/conda/lib/python3.10/site-packages/scipy/__init__.py:146: UserWarning: A NumPy version >=1.16.5 and <1.23.0 is required for this version of SciPy (detected version 1.24.3\n",
      "  warnings.warn(f\"A NumPy version >={np_minversion} and <{np_maxversion}\"\n"
     ]
    },
    {
     "data": {
      "text/plain": [
       "False"
      ]
     },
     "execution_count": 2,
     "metadata": {},
     "output_type": "execute_result"
    }
   ],
   "source": [
    "# system packages\n",
    "import os\n",
    "import sys\n",
    "import pathlib\n",
    "from dotenv import load_dotenv\n",
    "\n",
    "# data handling tools.\n",
    "import cv2\n",
    "import numpy as np\n",
    "import pandas as pd\n",
    "import matplotlib.pyplot as plt\n",
    "import seaborn as sns\n",
    "sns.set_style('darkgrid')\n",
    "from sklearn.metrics import classification_report, confusion_matrix\n",
    "\n",
    "# Tensorflow.\n",
    "import tensorflow as tf\n",
    "from tensorflow.keras.optimizers import SGD\n",
    "from tensorflow.keras.optimizers.schedules import CosineDecay\n",
    "from tensorflow.keras.losses import CategoricalCrossentropy, SparseCategoricalCrossentropy\n",
    "from tensorflow.keras.callbacks import EarlyStopping, ModelCheckpoint, TensorBoard\n",
    "from tensorflow.keras.utils import image_dataset_from_directory\n",
    "from tensorflow.keras.preprocessing.image import ImageDataGenerator\n",
    "from tensorflow.data import Dataset as TFDataset\n",
    "\n",
    "\n",
    "# Huggingface Transformers\n",
    "import datasets\n",
    "from transformers import ViTFeatureExtractor, TFViTForImageClassification\n",
    "from transformers import DefaultDataCollator\n",
    "from transformers.keras_callbacks import PushToHubCallback\n",
    "\n",
    "# utility imports\n",
    "import reusables\n",
    "from typing import List\n",
    "from huggingface_hub import notebook_login\n",
    "\n",
    "# ignoring warnings.\n",
    "from warnings import filterwarnings\n",
    "filterwarnings('ignore')\n",
    "\n",
    "load_dotenv()\n"
   ]
  },
  {
   "cell_type": "markdown",
   "id": "f640c6c1",
   "metadata": {
    "papermill": {
     "duration": 0.011009,
     "end_time": "2023-12-02T22:33:59.187874",
     "exception": false,
     "start_time": "2023-12-02T22:33:59.176865",
     "status": "completed"
    },
    "tags": []
   },
   "source": [
    "Hugging Face Hub"
   ]
  },
  {
   "cell_type": "code",
   "execution_count": 3,
   "id": "9e6e1356",
   "metadata": {
    "execution": {
     "iopub.execute_input": "2023-12-02T22:33:59.211828Z",
     "iopub.status.busy": "2023-12-02T22:33:59.211261Z",
     "iopub.status.idle": "2023-12-02T22:33:59.231753Z",
     "shell.execute_reply": "2023-12-02T22:33:59.230914Z"
    },
    "papermill": {
     "duration": 0.042885,
     "end_time": "2023-12-02T22:33:59.241922",
     "exception": false,
     "start_time": "2023-12-02T22:33:59.199037",
     "status": "completed"
    },
    "tags": []
   },
   "outputs": [
    {
     "data": {
      "application/vnd.jupyter.widget-view+json": {
       "model_id": "12c39c145d904fab9473734fcc87f063",
       "version_major": 2,
       "version_minor": 0
      },
      "text/plain": [
       "VBox(children=(HTML(value='<center> <img\\nsrc=https://huggingface.co/front/assets/huggingface_logo-noborder.sv…"
      ]
     },
     "metadata": {},
     "output_type": "display_data"
    }
   ],
   "source": [
    "# login\n",
    "notebook_login()"
   ]
  },
  {
   "cell_type": "code",
   "execution_count": 5,
   "id": "7c0fed37",
   "metadata": {
    "execution": {
     "iopub.execute_input": "2023-12-02T22:33:59.316872Z",
     "iopub.status.busy": "2023-12-02T22:33:59.316594Z",
     "iopub.status.idle": "2023-12-02T22:33:59.320300Z",
     "shell.execute_reply": "2023-12-02T22:33:59.319534Z"
    },
    "papermill": {
     "duration": 0.017601,
     "end_time": "2023-12-02T22:33:59.322168",
     "exception": false,
     "start_time": "2023-12-02T22:33:59.304567",
     "status": "completed"
    },
    "tags": []
   },
   "outputs": [],
   "source": [
    "DATA_FOLDER = '/kaggle/input/leukemia-classification'"
   ]
  },
  {
   "cell_type": "markdown",
   "id": "5842237e",
   "metadata": {
    "papermill": {
     "duration": 0.010946,
     "end_time": "2023-12-02T22:33:59.344538",
     "exception": false,
     "start_time": "2023-12-02T22:33:59.333592",
     "status": "completed"
    },
    "tags": []
   },
   "source": [
    "Dataset splits paths."
   ]
  },
  {
   "cell_type": "code",
   "execution_count": 6,
   "id": "5c5bc76d",
   "metadata": {
    "execution": {
     "iopub.execute_input": "2023-12-02T22:33:59.368345Z",
     "iopub.status.busy": "2023-12-02T22:33:59.367994Z",
     "iopub.status.idle": "2023-12-02T22:33:59.372468Z",
     "shell.execute_reply": "2023-12-02T22:33:59.371689Z"
    },
    "papermill": {
     "duration": 0.018611,
     "end_time": "2023-12-02T22:33:59.374334",
     "exception": false,
     "start_time": "2023-12-02T22:33:59.355723",
     "status": "completed"
    },
    "tags": []
   },
   "outputs": [],
   "source": [
    "TRAINING_DATA_FOLDER = os.path.join(DATA_FOLDER, 'C-NMC_Leukemia', 'training_data')\n",
    "VALIDATION_DATA_FOLDER = os.path.join(DATA_FOLDER, 'C-NMC_Leukemia', 'validation_data')\n",
    "TESTING_DATA_FOLDER = os.path.join(DATA_FOLDER, 'C-NMC_Leukemia', 'testing_data')"
   ]
  },
  {
   "cell_type": "code",
   "execution_count": 7,
   "id": "f015b7ad",
   "metadata": {
    "execution": {
     "iopub.execute_input": "2023-12-02T22:33:59.398180Z",
     "iopub.status.busy": "2023-12-02T22:33:59.397931Z",
     "iopub.status.idle": "2023-12-02T22:33:59.484437Z",
     "shell.execute_reply": "2023-12-02T22:33:59.483532Z"
    },
    "papermill": {
     "duration": 0.100697,
     "end_time": "2023-12-02T22:33:59.486311",
     "exception": false,
     "start_time": "2023-12-02T22:33:59.385614",
     "status": "completed"
    },
    "tags": []
   },
   "outputs": [],
   "source": [
    "# define constants.\n",
    "MODEL_CHECK_POINT = 'google/vit-base-patch16-224-in21k'\n",
    "BATCH_SIZE = 64\n",
    "EPOCHS = 14\n",
    "INITIAL_LEARNING_RATE = 0.001\n",
    "LABEL2ID = {'hem': 0, 'all': 1}\n",
    "ID2LABEL = {0: 'hem', 1: 'all'}\n",
    "FP16 = True\n",
    "OUTPUT_DIR = MODEL_CHECK_POINT.split('/')[1]\n",
    "HUB_MODEL_ID = f'{OUTPUT_DIR}-leukemia'\n",
    "HUB_TOKEN = os.getenv('HUGGING_FACE_HUB_API_TOKEN')\n",
    "\n",
    "if FP16:\n",
    "    tf.keras.mixed_precision.set_global_policy(\"mixed_float16\")"
   ]
  },
  {
   "cell_type": "markdown",
   "id": "9a18236b",
   "metadata": {
    "papermill": {
     "duration": 0.011026,
     "end_time": "2023-12-02T22:33:59.508832",
     "exception": false,
     "start_time": "2023-12-02T22:33:59.497806",
     "status": "completed"
    },
    "tags": []
   },
   "source": [
    "### **Loading Data**."
   ]
  },
  {
   "cell_type": "code",
   "execution_count": 8,
   "id": "f1278060",
   "metadata": {
    "execution": {
     "iopub.execute_input": "2023-12-02T22:33:59.534713Z",
     "iopub.status.busy": "2023-12-02T22:33:59.534235Z",
     "iopub.status.idle": "2023-12-02T22:33:59.545402Z",
     "shell.execute_reply": "2023-12-02T22:33:59.544089Z"
    },
    "papermill": {
     "duration": 0.027923,
     "end_time": "2023-12-02T22:33:59.547992",
     "exception": false,
     "start_time": "2023-12-02T22:33:59.520069",
     "status": "completed"
    },
    "tags": []
   },
   "outputs": [],
   "source": [
    "def extract_img_dataset(root_path):\n",
    "  \"\"\"creates `Dataset` from image folder structure\"\"\"\n",
    "\n",
    "  classes = os.listdir(root_path)\n",
    "  classes.reverse() # to reverse the labeling order, default: first -> 0, reversed: last -> 0\n",
    "\n",
    "  features = datasets.Features(\n",
    "    {\n",
    "      \"img\": datasets.Image(),\n",
    "      \"label\": datasets.features.ClassLabel(names=classes),\n",
    "    }\n",
    "  )\n",
    "\n",
    "  img_files = []\n",
    "  labels = []\n",
    "\n",
    "  datapaths = list(os.walk(root_path))\n",
    "  for idx in range(len(datapaths[0][1])):\n",
    "    label = datapaths[0][1][idx]\n",
    "    imgs = [os.path.abspath(os.path.join(root_path, label, img)) for img in datapaths[idx + 1][2]]\n",
    "    img_files.extend(imgs)\n",
    "    labels.extend([label] * len(imgs))\n",
    "\n",
    "  ds = datasets.Dataset.from_dict(\n",
    "    {\n",
    "      \"img\": img_files,\n",
    "      \"label\": labels\n",
    "    },\n",
    "    features=features\n",
    "  )\n",
    "\n",
    "  return ds"
   ]
  },
  {
   "cell_type": "markdown",
   "id": "37fd71ef",
   "metadata": {
    "papermill": {
     "duration": 0.01717,
     "end_time": "2023-12-02T22:33:59.582769",
     "exception": false,
     "start_time": "2023-12-02T22:33:59.565599",
     "status": "completed"
    },
    "tags": []
   },
   "source": [
    "Training Data."
   ]
  },
  {
   "cell_type": "code",
   "execution_count": 9,
   "id": "d895f000",
   "metadata": {
    "execution": {
     "iopub.execute_input": "2023-12-02T22:33:59.621457Z",
     "iopub.status.busy": "2023-12-02T22:33:59.621015Z",
     "iopub.status.idle": "2023-12-02T22:34:07.605669Z",
     "shell.execute_reply": "2023-12-02T22:34:07.604535Z"
    },
    "papermill": {
     "duration": 8.00662,
     "end_time": "2023-12-02T22:34:07.608060",
     "exception": false,
     "start_time": "2023-12-02T22:33:59.601440",
     "status": "completed"
    },
    "tags": []
   },
   "outputs": [
    {
     "data": {
      "text/plain": [
       "Dataset({\n",
       "    features: ['img', 'label'],\n",
       "    num_rows: 10661\n",
       "})"
      ]
     },
     "execution_count": 9,
     "metadata": {},
     "output_type": "execute_result"
    }
   ],
   "source": [
    "# loading datasets\n",
    "fold_0 = extract_img_dataset(os.path.join(TRAINING_DATA_FOLDER, 'fold_0'))\n",
    "fold_1 = extract_img_dataset(os.path.join(TRAINING_DATA_FOLDER, 'fold_1'))\n",
    "fold_2 = extract_img_dataset(os.path.join(TRAINING_DATA_FOLDER, 'fold_2'))\n",
    "\n",
    "train_dataset = datasets.concatenate_datasets([fold_0, fold_1, fold_2])\n",
    "train_dataset"
   ]
  },
  {
   "cell_type": "code",
   "execution_count": 10,
   "id": "9023e3a9",
   "metadata": {
    "execution": {
     "iopub.execute_input": "2023-12-02T22:34:07.677808Z",
     "iopub.status.busy": "2023-12-02T22:34:07.677480Z",
     "iopub.status.idle": "2023-12-02T22:34:07.735939Z",
     "shell.execute_reply": "2023-12-02T22:34:07.735079Z"
    },
    "papermill": {
     "duration": 0.073651,
     "end_time": "2023-12-02T22:34:07.738125",
     "exception": false,
     "start_time": "2023-12-02T22:34:07.664474",
     "status": "completed"
    },
    "tags": []
   },
   "outputs": [
    {
     "name": "stdout",
     "output_type": "stream",
     "text": [
      " class: 0\n"
     ]
    },
    {
     "data": {
      "image/png": "[encoded data removed]",
      "text/plain": [
       "<PIL.BmpImagePlugin.BmpImageFile image mode=RGB size=450x450>"
      ]
     },
     "execution_count": 10,
     "metadata": {},
     "output_type": "execute_result"
    }
   ],
   "source": [
    "# load random sample.\n",
    "randidx = np.random.randint(0, len(train_dataset) - 1)\n",
    "print(f\" class: {train_dataset[randidx]['label']}\") \n",
    "train_dataset[randidx]['img']"
   ]
  },
  {
   "cell_type": "markdown",
   "id": "5ac2ac32",
   "metadata": {
    "papermill": {
     "duration": 0.012085,
     "end_time": "2023-12-02T22:34:07.762852",
     "exception": false,
     "start_time": "2023-12-02T22:34:07.750767",
     "status": "completed"
    },
    "tags": []
   },
   "source": [
    "Validation Data."
   ]
  },
  {
   "cell_type": "code",
   "execution_count": 11,
   "id": "a5956db7",
   "metadata": {
    "execution": {
     "iopub.execute_input": "2023-12-02T22:34:07.790618Z",
     "iopub.status.busy": "2023-12-02T22:34:07.790275Z",
     "iopub.status.idle": "2023-12-02T22:34:07.832161Z",
     "shell.execute_reply": "2023-12-02T22:34:07.831209Z"
    },
    "papermill": {
     "duration": 0.058244,
     "end_time": "2023-12-02T22:34:07.834198",
     "exception": false,
     "start_time": "2023-12-02T22:34:07.775954",
     "status": "completed"
    },
    "tags": []
   },
   "outputs": [
    {
     "name": "stdout",
     "output_type": "stream",
     "text": [
      "<class 'pandas.core.frame.DataFrame'>\n",
      "RangeIndex: 1867 entries, 0 to 1866\n",
      "Data columns (total 3 columns):\n",
      " #   Column      Non-Null Count  Dtype \n",
      "---  ------      --------------  ----- \n",
      " 0   Patient_ID  1867 non-null   object\n",
      " 1   new_names   1867 non-null   object\n",
      " 2   labels      1867 non-null   int64 \n",
      "dtypes: int64(1), object(2)\n",
      "memory usage: 43.9+ KB\n"
     ]
    }
   ],
   "source": [
    "validation_df = pd.read_csv(os.path.join(VALIDATION_DATA_FOLDER, 'C-NMC_test_prelim_phase_data_labels.csv'))\n",
    "validation_df.info()"
   ]
  },
  {
   "cell_type": "code",
   "execution_count": 12,
   "id": "771511a9",
   "metadata": {
    "execution": {
     "iopub.execute_input": "2023-12-02T22:34:07.860575Z",
     "iopub.status.busy": "2023-12-02T22:34:07.860275Z",
     "iopub.status.idle": "2023-12-02T22:34:07.883183Z",
     "shell.execute_reply": "2023-12-02T22:34:07.882486Z"
    },
    "papermill": {
     "duration": 0.038461,
     "end_time": "2023-12-02T22:34:07.885152",
     "exception": false,
     "start_time": "2023-12-02T22:34:07.846691",
     "status": "completed"
    },
    "tags": []
   },
   "outputs": [],
   "source": [
    "# adding full paths to images\n",
    "validation_df['new_names'] = validation_df['new_names'].map(\n",
    "    lambda img: os.path.abspath(os.path.join(VALIDATION_DATA_FOLDER, 'C-NMC_test_prelim_phase_data', img))\n",
    ")\n",
    "\n",
    "# mapping ints to class names so they can be remapped easily\n",
    "validation_df['labels'] = validation_df['labels'].map(\n",
    "    lambda label: 'all' if label == 1 else 'hem'\n",
    ")"
   ]
  },
  {
   "cell_type": "code",
   "execution_count": 13,
   "id": "c845d898",
   "metadata": {
    "execution": {
     "iopub.execute_input": "2023-12-02T22:34:07.911966Z",
     "iopub.status.busy": "2023-12-02T22:34:07.911691Z",
     "iopub.status.idle": "2023-12-02T22:34:07.930646Z",
     "shell.execute_reply": "2023-12-02T22:34:07.929967Z"
    },
    "papermill": {
     "duration": 0.034934,
     "end_time": "2023-12-02T22:34:07.932597",
     "exception": false,
     "start_time": "2023-12-02T22:34:07.897663",
     "status": "completed"
    },
    "tags": []
   },
   "outputs": [],
   "source": [
    "# creating dataset\n",
    "classes = ['hem', 'all']\n",
    "labels = validation_df['labels'].to_list()\n",
    "img_files = validation_df['new_names'].to_list()\n",
    "\n",
    "features = datasets.Features(\n",
    "    {\n",
    "        'img': datasets.Image(),\n",
    "        'label': datasets.features.ClassLabel(names=classes)\n",
    "    }\n",
    ")\n",
    "\n",
    "validation_dataset = datasets.Dataset.from_dict(\n",
    "    {\n",
    "        'img': img_files,\n",
    "        'label': labels\n",
    "    },\n",
    "    features=features\n",
    ")"
   ]
  },
  {
   "cell_type": "code",
   "execution_count": 14,
   "id": "601f17f5",
   "metadata": {
    "execution": {
     "iopub.execute_input": "2023-12-02T22:34:07.958849Z",
     "iopub.status.busy": "2023-12-02T22:34:07.958563Z",
     "iopub.status.idle": "2023-12-02T22:34:08.013491Z",
     "shell.execute_reply": "2023-12-02T22:34:08.012672Z"
    },
    "papermill": {
     "duration": 0.07062,
     "end_time": "2023-12-02T22:34:08.015667",
     "exception": false,
     "start_time": "2023-12-02T22:34:07.945047",
     "status": "completed"
    },
    "tags": []
   },
   "outputs": [
    {
     "name": "stdout",
     "output_type": "stream",
     "text": [
      " class: 0\n"
     ]
    },
    {
     "data": {
      "image/png": "[encoded data removed]",
      "text/plain": [
       "<PIL.BmpImagePlugin.BmpImageFile image mode=RGB size=450x450>"
      ]
     },
     "execution_count": 14,
     "metadata": {},
     "output_type": "execute_result"
    }
   ],
   "source": [
    "# load random sample.\n",
    "randidx = np.random.randint(0, len(validation_dataset) - 1)\n",
    "print(f\" class: {validation_dataset[randidx]['label']}\") \n",
    "validation_dataset[randidx]['img']"
   ]
  },
  {
   "cell_type": "code",
   "execution_count": 15,
   "id": "8a23e231",
   "metadata": {
    "execution": {
     "iopub.execute_input": "2023-12-02T22:34:08.043703Z",
     "iopub.status.busy": "2023-12-02T22:34:08.043392Z",
     "iopub.status.idle": "2023-12-02T22:34:08.049948Z",
     "shell.execute_reply": "2023-12-02T22:34:08.049037Z"
    },
    "papermill": {
     "duration": 0.0224,
     "end_time": "2023-12-02T22:34:08.051842",
     "exception": false,
     "start_time": "2023-12-02T22:34:08.029442",
     "status": "completed"
    },
    "tags": []
   },
   "outputs": [
    {
     "data": {
      "text/plain": [
       "DatasetDict({\n",
       "    train: Dataset({\n",
       "        features: ['img', 'label'],\n",
       "        num_rows: 10661\n",
       "    })\n",
       "    validation: Dataset({\n",
       "        features: ['img', 'label'],\n",
       "        num_rows: 1867\n",
       "    })\n",
       "})"
      ]
     },
     "execution_count": 15,
     "metadata": {},
     "output_type": "execute_result"
    }
   ],
   "source": [
    "# full dataset\n",
    "luekemia_dataset = datasets.DatasetDict(\n",
    "    {\n",
    "        'train': train_dataset,\n",
    "        'validation': validation_dataset\n",
    "    }\n",
    ")\n",
    "\n",
    "luekemia_dataset"
   ]
  },
  {
   "cell_type": "markdown",
   "id": "2bf22928",
   "metadata": {
    "papermill": {
     "duration": 0.013435,
     "end_time": "2023-12-02T22:34:08.078482",
     "exception": false,
     "start_time": "2023-12-02T22:34:08.065047",
     "status": "completed"
    },
    "tags": []
   },
   "source": [
    "preprocessing"
   ]
  },
  {
   "cell_type": "code",
   "execution_count": 16,
   "id": "74a7763c",
   "metadata": {
    "execution": {
     "iopub.execute_input": "2023-12-02T22:34:08.107300Z",
     "iopub.status.busy": "2023-12-02T22:34:08.106956Z",
     "iopub.status.idle": "2023-12-02T22:34:08.552520Z",
     "shell.execute_reply": "2023-12-02T22:34:08.551493Z"
    },
    "papermill": {
     "duration": 0.46645,
     "end_time": "2023-12-02T22:34:08.558990",
     "exception": false,
     "start_time": "2023-12-02T22:34:08.092540",
     "status": "completed"
    },
    "tags": []
   },
   "outputs": [
    {
     "data": {
      "application/vnd.jupyter.widget-view+json": {
       "model_id": "6645ea3dc2944cbdb5d63d07a32515b9",
       "version_major": 2,
       "version_minor": 0
      },
      "text/plain": [
       "Downloading (…)rocessor_config.json:   0%|          | 0.00/160 [00:00<?, ?B/s]"
      ]
     },
     "metadata": {},
     "output_type": "display_data"
    }
   ],
   "source": [
    "# getting ViT preprocessor\n",
    "vit_preprocessor = ViTFeatureExtractor.from_pretrained(MODEL_CHECK_POINT)"
   ]
  },
  {
   "cell_type": "code",
   "execution_count": 17,
   "id": "f0cb2e6e",
   "metadata": {
    "execution": {
     "iopub.execute_input": "2023-12-02T22:34:08.589195Z",
     "iopub.status.busy": "2023-12-02T22:34:08.588304Z",
     "iopub.status.idle": "2023-12-02T22:34:08.593942Z",
     "shell.execute_reply": "2023-12-02T22:34:08.593058Z"
    },
    "papermill": {
     "duration": 0.023185,
     "end_time": "2023-12-02T22:34:08.596367",
     "exception": false,
     "start_time": "2023-12-02T22:34:08.573182",
     "status": "completed"
    },
    "tags": []
   },
   "outputs": [],
   "source": [
    "def preprocess(samples):\n",
    "    \"\"\"\n",
    "    to be used with `.map` on a hugging face dataset to preprocess the\n",
    "    input images\n",
    "    \"\"\"\n",
    "    samples.update(\n",
    "        vit_preprocessor(samples['img'])\n",
    "    )\n",
    "    \n",
    "    return samples"
   ]
  },
  {
   "cell_type": "code",
   "execution_count": 18,
   "id": "ef5377dc",
   "metadata": {
    "execution": {
     "iopub.execute_input": "2023-12-02T22:34:08.635297Z",
     "iopub.status.busy": "2023-12-02T22:34:08.634928Z",
     "iopub.status.idle": "2023-12-02T22:34:08.639649Z",
     "shell.execute_reply": "2023-12-02T22:34:08.638732Z"
    },
    "papermill": {
     "duration": 0.025451,
     "end_time": "2023-12-02T22:34:08.641762",
     "exception": false,
     "start_time": "2023-12-02T22:34:08.616311",
     "status": "completed"
    },
    "tags": []
   },
   "outputs": [],
   "source": [
    "# to deal with packages incompatibilities\n",
    "np.object = object\n",
    "np.bool = bool"
   ]
  },
  {
   "cell_type": "code",
   "execution_count": 19,
   "id": "74d421b6",
   "metadata": {
    "execution": {
     "iopub.execute_input": "2023-12-02T22:34:08.670431Z",
     "iopub.status.busy": "2023-12-02T22:34:08.670072Z",
     "iopub.status.idle": "2023-12-02T22:38:12.447994Z",
     "shell.execute_reply": "2023-12-02T22:38:12.446777Z"
    },
    "papermill": {
     "duration": 243.794698,
     "end_time": "2023-12-02T22:38:12.450187",
     "exception": false,
     "start_time": "2023-12-02T22:34:08.655489",
     "status": "completed"
    },
    "tags": []
   },
   "outputs": [
    {
     "data": {
      "application/vnd.jupyter.widget-view+json": {
       "model_id": "0f8094e181e842c98db8a519cb3b6285",
       "version_major": 2,
       "version_minor": 0
      },
      "text/plain": [
       "  0%|          | 0/11 [00:00<?, ?ba/s]"
      ]
     },
     "metadata": {},
     "output_type": "display_data"
    },
    {
     "data": {
      "application/vnd.jupyter.widget-view+json": {
       "model_id": "b1f75a7571bd440a86f4d5e75741cff8",
       "version_major": 2,
       "version_minor": 0
      },
      "text/plain": [
       "  0%|          | 0/2 [00:00<?, ?ba/s]"
      ]
     },
     "metadata": {},
     "output_type": "display_data"
    }
   ],
   "source": [
    "luekemia_dataset_preprocessed = luekemia_dataset.map(preprocess, batched=True)"
   ]
  },
  {
   "cell_type": "code",
   "execution_count": 20,
   "id": "682da1b8",
   "metadata": {
    "execution": {
     "iopub.execute_input": "2023-12-02T22:38:12.480818Z",
     "iopub.status.busy": "2023-12-02T22:38:12.480508Z",
     "iopub.status.idle": "2023-12-02T22:38:12.486290Z",
     "shell.execute_reply": "2023-12-02T22:38:12.485492Z"
    },
    "papermill": {
     "duration": 0.023932,
     "end_time": "2023-12-02T22:38:12.488409",
     "exception": false,
     "start_time": "2023-12-02T22:38:12.464477",
     "status": "completed"
    },
    "tags": []
   },
   "outputs": [
    {
     "data": {
      "text/plain": [
       "DatasetDict({\n",
       "    train: Dataset({\n",
       "        features: ['img', 'label', 'pixel_values'],\n",
       "        num_rows: 10661\n",
       "    })\n",
       "    validation: Dataset({\n",
       "        features: ['img', 'label', 'pixel_values'],\n",
       "        num_rows: 1867\n",
       "    })\n",
       "})"
      ]
     },
     "execution_count": 20,
     "metadata": {},
     "output_type": "execute_result"
    }
   ],
   "source": [
    "luekemia_dataset_preprocessed"
   ]
  },
  {
   "cell_type": "markdown",
   "id": "0280bd77",
   "metadata": {
    "papermill": {
     "duration": 0.01385,
     "end_time": "2023-12-02T22:38:12.516047",
     "exception": false,
     "start_time": "2023-12-02T22:38:12.502197",
     "status": "completed"
    },
    "tags": []
   },
   "source": [
    "converting dataset to tensorflow dataset."
   ]
  },
  {
   "cell_type": "code",
   "execution_count": 21,
   "id": "b66ea87c",
   "metadata": {
    "execution": {
     "iopub.execute_input": "2023-12-02T22:38:12.545668Z",
     "iopub.status.busy": "2023-12-02T22:38:12.544998Z",
     "iopub.status.idle": "2023-12-02T22:38:17.917610Z",
     "shell.execute_reply": "2023-12-02T22:38:17.916755Z"
    },
    "papermill": {
     "duration": 5.389947,
     "end_time": "2023-12-02T22:38:17.920010",
     "exception": false,
     "start_time": "2023-12-02T22:38:12.530063",
     "status": "completed"
    },
    "tags": []
   },
   "outputs": [],
   "source": [
    "data_collator = DefaultDataCollator(return_tensors='tf')\n",
    "\n",
    "tf_training_dataset = luekemia_dataset_preprocessed['train'].to_tf_dataset(\n",
    "    columns=['pixel_values'],\n",
    "    label_cols=['label'],\n",
    "    shuffle=True,\n",
    "    batch_size=BATCH_SIZE,\n",
    "    collate_fn=data_collator\n",
    ")\n",
    "\n",
    "tf_validation_dataset = luekemia_dataset_preprocessed['validation'].to_tf_dataset(\n",
    "    columns=['pixel_values'],\n",
    "    label_cols=['label'],\n",
    "    shuffle=True,\n",
    "    batch_size=BATCH_SIZE,\n",
    "    collate_fn=data_collator\n",
    ")"
   ]
  },
  {
   "cell_type": "markdown",
   "id": "55813151",
   "metadata": {
    "papermill": {
     "duration": 0.015279,
     "end_time": "2023-12-02T22:38:17.951278",
     "exception": false,
     "start_time": "2023-12-02T22:38:17.935999",
     "status": "completed"
    },
    "tags": []
   },
   "source": [
    "loading the model."
   ]
  },
  {
   "cell_type": "code",
   "execution_count": 22,
   "id": "b782155a",
   "metadata": {
    "execution": {
     "iopub.execute_input": "2023-12-02T22:38:17.982159Z",
     "iopub.status.busy": "2023-12-02T22:38:17.981556Z",
     "iopub.status.idle": "2023-12-02T22:38:24.886104Z",
     "shell.execute_reply": "2023-12-02T22:38:24.885182Z"
    },
    "papermill": {
     "duration": 6.92248,
     "end_time": "2023-12-02T22:38:24.888242",
     "exception": false,
     "start_time": "2023-12-02T22:38:17.965762",
     "status": "completed"
    },
    "tags": []
   },
   "outputs": [
    {
     "data": {
      "application/vnd.jupyter.widget-view+json": {
       "model_id": "5a75330c916a418b9faa5b3abfda6d66",
       "version_major": 2,
       "version_minor": 0
      },
      "text/plain": [
       "Downloading config.json:   0%|          | 0.00/502 [00:00<?, ?B/s]"
      ]
     },
     "metadata": {},
     "output_type": "display_data"
    },
    {
     "data": {
      "application/vnd.jupyter.widget-view+json": {
       "model_id": "57c09455df37408d95c140f1229e0cc4",
       "version_major": 2,
       "version_minor": 0
      },
      "text/plain": [
       "Downloading tf_model.h5:   0%|          | 0.00/346M [00:00<?, ?B/s]"
      ]
     },
     "metadata": {},
     "output_type": "display_data"
    },
    {
     "name": "stderr",
     "output_type": "stream",
     "text": [
      "Some layers from the model checkpoint at google/vit-base-patch16-224-in21k were not used when initializing TFViTForImageClassification: ['vit/pooler/dense/bias:0', 'vit/pooler/dense/kernel:0']\n",
      "- This IS expected if you are initializing TFViTForImageClassification from the checkpoint of a model trained on another task or with another architecture (e.g. initializing a BertForSequenceClassification model from a BertForPreTraining model).\n",
      "- This IS NOT expected if you are initializing TFViTForImageClassification from the checkpoint of a model that you expect to be exactly identical (initializing a BertForSequenceClassification model from a BertForSequenceClassification model).\n",
      "Some layers of TFViTForImageClassification were not initialized from the model checkpoint at google/vit-base-patch16-224-in21k and are newly initialized: ['classifier']\n",
      "You should probably TRAIN this model on a down-stream task to be able to use it for predictions and inference.\n"
     ]
    }
   ],
   "source": [
    "vit = TFViTForImageClassification.from_pretrained(\n",
    "    MODEL_CHECK_POINT,\n",
    "    num_labels=2,\n",
    "    id2label=ID2LABEL,\n",
    "    label2id=LABEL2ID\n",
    ")"
   ]
  },
  {
   "cell_type": "markdown",
   "id": "8a8b1da9",
   "metadata": {
    "papermill": {
     "duration": 0.014088,
     "end_time": "2023-12-02T22:38:24.917248",
     "exception": false,
     "start_time": "2023-12-02T22:38:24.903160",
     "status": "completed"
    },
    "tags": []
   },
   "source": [
    "Configuring Callbacks."
   ]
  },
  {
   "cell_type": "code",
   "execution_count": 23,
   "id": "c1e4d257",
   "metadata": {
    "execution": {
     "iopub.execute_input": "2023-12-02T22:38:24.947147Z",
     "iopub.status.busy": "2023-12-02T22:38:24.946862Z",
     "iopub.status.idle": "2023-12-02T22:38:26.284155Z",
     "shell.execute_reply": "2023-12-02T22:38:26.282794Z"
    },
    "papermill": {
     "duration": 1.35406,
     "end_time": "2023-12-02T22:38:26.285804",
     "exception": true,
     "start_time": "2023-12-02T22:38:24.931744",
     "status": "failed"
    },
    "tags": []
   },
   "outputs": [
    {
     "ename": "ValueError",
     "evalue": "Token is required (write-access action) but no token found. You need to provide a token or be logged in to Hugging Face with `huggingface-cli login` or `huggingface_hub.login`. See https://huggingface.co/settings/tokens.",
     "output_type": "error",
     "traceback": [
      "\u001b[0;31m---------------------------------------------------------------------------\u001b[0m",
      "\u001b[0;31mValueError\u001b[0m                                Traceback (most recent call last)",
      "Cell \u001b[0;32mIn[23], line 19\u001b[0m\n\u001b[1;32m      6\u001b[0m model_chkpt \u001b[38;5;241m=\u001b[39m ModelCheckpoint(\n\u001b[1;32m      7\u001b[0m     filepath\u001b[38;5;241m=\u001b[39m\u001b[38;5;124m'\u001b[39m\u001b[38;5;124mmodels/checkpoints\u001b[39m\u001b[38;5;124m'\u001b[39m,\n\u001b[1;32m      8\u001b[0m     monitor\u001b[38;5;241m=\u001b[39m\u001b[38;5;124m'\u001b[39m\u001b[38;5;124mval_accuracy\u001b[39m\u001b[38;5;124m'\u001b[39m,\n\u001b[0;32m   (...)\u001b[0m\n\u001b[1;32m     11\u001b[0m     verbose\u001b[38;5;241m=\u001b[39m\u001b[38;5;241m1\u001b[39m\n\u001b[1;32m     12\u001b[0m )\n\u001b[1;32m     14\u001b[0m board \u001b[38;5;241m=\u001b[39m TensorBoard(\n\u001b[1;32m     15\u001b[0m     log_dir\u001b[38;5;241m=\u001b[39mos\u001b[38;5;241m.\u001b[39mpath\u001b[38;5;241m.\u001b[39mjoin(OUTPUT_DIR, \u001b[38;5;124m'\u001b[39m\u001b[38;5;124mlogs\u001b[39m\u001b[38;5;124m'\u001b[39m),\n\u001b[1;32m     16\u001b[0m     update_freq\u001b[38;5;241m=\u001b[39m\u001b[38;5;124m'\u001b[39m\u001b[38;5;124mbatch\u001b[39m\u001b[38;5;124m'\u001b[39m\n\u001b[1;32m     17\u001b[0m )\n\u001b[0;32m---> 19\u001b[0m to_hub \u001b[38;5;241m=\u001b[39m \u001b[43mPushToHubCallback\u001b[49m\u001b[43m(\u001b[49m\n\u001b[1;32m     20\u001b[0m \u001b[43m    \u001b[49m\u001b[43moutput_dir\u001b[49m\u001b[38;5;241;43m=\u001b[39;49m\u001b[43mOUTPUT_DIR\u001b[49m\u001b[43m,\u001b[49m\n\u001b[1;32m     21\u001b[0m \u001b[43m    \u001b[49m\u001b[43mhub_model_id\u001b[49m\u001b[38;5;241;43m=\u001b[39;49m\u001b[43mHUB_MODEL_ID\u001b[49m\u001b[43m,\u001b[49m\n\u001b[1;32m     22\u001b[0m \u001b[43m)\u001b[49m\n\u001b[1;32m     24\u001b[0m callbacks \u001b[38;5;241m=\u001b[39m [early_sopping, model_chkpt, board, to_hub]\n",
      "File \u001b[0;32m/opt/conda/lib/python3.10/site-packages/transformers/keras_callbacks.py:340\u001b[0m, in \u001b[0;36mPushToHubCallback.__init__\u001b[0;34m(self, output_dir, save_strategy, save_steps, tokenizer, hub_model_id, hub_token, checkpoint, **model_card_args)\u001b[0m\n\u001b[1;32m    338\u001b[0m \u001b[38;5;28;01mif\u001b[39;00m hub_model_id \u001b[38;5;129;01mis\u001b[39;00m \u001b[38;5;28;01mNone\u001b[39;00m:\n\u001b[1;32m    339\u001b[0m     hub_model_id \u001b[38;5;241m=\u001b[39m output_dir\u001b[38;5;241m.\u001b[39mabsolute()\u001b[38;5;241m.\u001b[39mname\n\u001b[0;32m--> 340\u001b[0m \u001b[38;5;28mself\u001b[39m\u001b[38;5;241m.\u001b[39mhub_model_id \u001b[38;5;241m=\u001b[39m \u001b[43mcreate_repo\u001b[49m\u001b[43m(\u001b[49m\u001b[43mrepo_id\u001b[49m\u001b[38;5;241;43m=\u001b[39;49m\u001b[43mhub_model_id\u001b[49m\u001b[43m,\u001b[49m\u001b[43m \u001b[49m\u001b[43mexist_ok\u001b[49m\u001b[38;5;241;43m=\u001b[39;49m\u001b[38;5;28;43;01mTrue\u001b[39;49;00m\u001b[43m,\u001b[49m\u001b[43m \u001b[49m\u001b[43mtoken\u001b[49m\u001b[38;5;241;43m=\u001b[39;49m\u001b[43mhub_token\u001b[49m\u001b[43m)\u001b[49m\u001b[38;5;241m.\u001b[39mrepo_id\n\u001b[1;32m    342\u001b[0m \u001b[38;5;28mself\u001b[39m\u001b[38;5;241m.\u001b[39moutput_dir \u001b[38;5;241m=\u001b[39m output_dir\n\u001b[1;32m    343\u001b[0m \u001b[38;5;28mself\u001b[39m\u001b[38;5;241m.\u001b[39mrepo \u001b[38;5;241m=\u001b[39m Repository(\u001b[38;5;28mstr\u001b[39m(\u001b[38;5;28mself\u001b[39m\u001b[38;5;241m.\u001b[39moutput_dir), clone_from\u001b[38;5;241m=\u001b[39m\u001b[38;5;28mself\u001b[39m\u001b[38;5;241m.\u001b[39mhub_model_id, token\u001b[38;5;241m=\u001b[39mhub_token)\n",
      "File \u001b[0;32m/opt/conda/lib/python3.10/site-packages/huggingface_hub/utils/_validators.py:118\u001b[0m, in \u001b[0;36mvalidate_hf_hub_args.<locals>._inner_fn\u001b[0;34m(*args, **kwargs)\u001b[0m\n\u001b[1;32m    115\u001b[0m \u001b[38;5;28;01mif\u001b[39;00m check_use_auth_token:\n\u001b[1;32m    116\u001b[0m     kwargs \u001b[38;5;241m=\u001b[39m smoothly_deprecate_use_auth_token(fn_name\u001b[38;5;241m=\u001b[39mfn\u001b[38;5;241m.\u001b[39m\u001b[38;5;18m__name__\u001b[39m, has_token\u001b[38;5;241m=\u001b[39mhas_token, kwargs\u001b[38;5;241m=\u001b[39mkwargs)\n\u001b[0;32m--> 118\u001b[0m \u001b[38;5;28;01mreturn\u001b[39;00m \u001b[43mfn\u001b[49m\u001b[43m(\u001b[49m\u001b[38;5;241;43m*\u001b[39;49m\u001b[43margs\u001b[49m\u001b[43m,\u001b[49m\u001b[43m \u001b[49m\u001b[38;5;241;43m*\u001b[39;49m\u001b[38;5;241;43m*\u001b[39;49m\u001b[43mkwargs\u001b[49m\u001b[43m)\u001b[49m\n",
      "File \u001b[0;32m/opt/conda/lib/python3.10/site-packages/huggingface_hub/hf_api.py:2542\u001b[0m, in \u001b[0;36mHfApi.create_repo\u001b[0;34m(self, repo_id, token, private, repo_type, exist_ok, space_sdk, space_hardware, space_storage, space_sleep_time, space_secrets, space_variables)\u001b[0m\n\u001b[1;32m   2538\u001b[0m \u001b[38;5;28;01mif\u001b[39;00m \u001b[38;5;28mgetattr\u001b[39m(\u001b[38;5;28mself\u001b[39m, \u001b[38;5;124m\"\u001b[39m\u001b[38;5;124m_lfsmultipartthresh\u001b[39m\u001b[38;5;124m\"\u001b[39m, \u001b[38;5;28;01mNone\u001b[39;00m):\n\u001b[1;32m   2539\u001b[0m     \u001b[38;5;66;03m# Testing purposes only.\u001b[39;00m\n\u001b[1;32m   2540\u001b[0m     \u001b[38;5;66;03m# See https://github.com/huggingface/huggingface_hub/pull/733/files#r820604472\u001b[39;00m\n\u001b[1;32m   2541\u001b[0m     json[\u001b[38;5;124m\"\u001b[39m\u001b[38;5;124mlfsmultipartthresh\u001b[39m\u001b[38;5;124m\"\u001b[39m] \u001b[38;5;241m=\u001b[39m \u001b[38;5;28mself\u001b[39m\u001b[38;5;241m.\u001b[39m_lfsmultipartthresh  \u001b[38;5;66;03m# type: ignore\u001b[39;00m\n\u001b[0;32m-> 2542\u001b[0m headers \u001b[38;5;241m=\u001b[39m \u001b[38;5;28;43mself\u001b[39;49m\u001b[38;5;241;43m.\u001b[39;49m\u001b[43m_build_hf_headers\u001b[49m\u001b[43m(\u001b[49m\u001b[43mtoken\u001b[49m\u001b[38;5;241;43m=\u001b[39;49m\u001b[43mtoken\u001b[49m\u001b[43m,\u001b[49m\u001b[43m \u001b[49m\u001b[43mis_write_action\u001b[49m\u001b[38;5;241;43m=\u001b[39;49m\u001b[38;5;28;43;01mTrue\u001b[39;49;00m\u001b[43m)\u001b[49m\n\u001b[1;32m   2543\u001b[0m r \u001b[38;5;241m=\u001b[39m get_session()\u001b[38;5;241m.\u001b[39mpost(path, headers\u001b[38;5;241m=\u001b[39mheaders, json\u001b[38;5;241m=\u001b[39mjson)\n\u001b[1;32m   2545\u001b[0m \u001b[38;5;28;01mtry\u001b[39;00m:\n",
      "File \u001b[0;32m/opt/conda/lib/python3.10/site-packages/huggingface_hub/hf_api.py:5719\u001b[0m, in \u001b[0;36mHfApi._build_hf_headers\u001b[0;34m(self, token, is_write_action, library_name, library_version, user_agent)\u001b[0m\n\u001b[1;32m   5716\u001b[0m \u001b[38;5;28;01mif\u001b[39;00m token \u001b[38;5;129;01mis\u001b[39;00m \u001b[38;5;28;01mNone\u001b[39;00m:\n\u001b[1;32m   5717\u001b[0m     \u001b[38;5;66;03m# Cannot do `token = token or self.token` as token can be `False`.\u001b[39;00m\n\u001b[1;32m   5718\u001b[0m     token \u001b[38;5;241m=\u001b[39m \u001b[38;5;28mself\u001b[39m\u001b[38;5;241m.\u001b[39mtoken\n\u001b[0;32m-> 5719\u001b[0m \u001b[38;5;28;01mreturn\u001b[39;00m \u001b[43mbuild_hf_headers\u001b[49m\u001b[43m(\u001b[49m\n\u001b[1;32m   5720\u001b[0m \u001b[43m    \u001b[49m\u001b[43mtoken\u001b[49m\u001b[38;5;241;43m=\u001b[39;49m\u001b[43mtoken\u001b[49m\u001b[43m,\u001b[49m\n\u001b[1;32m   5721\u001b[0m \u001b[43m    \u001b[49m\u001b[43mis_write_action\u001b[49m\u001b[38;5;241;43m=\u001b[39;49m\u001b[43mis_write_action\u001b[49m\u001b[43m,\u001b[49m\n\u001b[1;32m   5722\u001b[0m \u001b[43m    \u001b[49m\u001b[43mlibrary_name\u001b[49m\u001b[38;5;241;43m=\u001b[39;49m\u001b[43mlibrary_name\u001b[49m\u001b[43m \u001b[49m\u001b[38;5;129;43;01mor\u001b[39;49;00m\u001b[43m \u001b[49m\u001b[38;5;28;43mself\u001b[39;49m\u001b[38;5;241;43m.\u001b[39;49m\u001b[43mlibrary_name\u001b[49m\u001b[43m,\u001b[49m\n\u001b[1;32m   5723\u001b[0m \u001b[43m    \u001b[49m\u001b[43mlibrary_version\u001b[49m\u001b[38;5;241;43m=\u001b[39;49m\u001b[43mlibrary_version\u001b[49m\u001b[43m \u001b[49m\u001b[38;5;129;43;01mor\u001b[39;49;00m\u001b[43m \u001b[49m\u001b[38;5;28;43mself\u001b[39;49m\u001b[38;5;241;43m.\u001b[39;49m\u001b[43mlibrary_version\u001b[49m\u001b[43m,\u001b[49m\n\u001b[1;32m   5724\u001b[0m \u001b[43m    \u001b[49m\u001b[43muser_agent\u001b[49m\u001b[38;5;241;43m=\u001b[39;49m\u001b[43muser_agent\u001b[49m\u001b[43m \u001b[49m\u001b[38;5;129;43;01mor\u001b[39;49;00m\u001b[43m \u001b[49m\u001b[38;5;28;43mself\u001b[39;49m\u001b[38;5;241;43m.\u001b[39;49m\u001b[43muser_agent\u001b[49m\u001b[43m,\u001b[49m\n\u001b[1;32m   5725\u001b[0m \u001b[43m\u001b[49m\u001b[43m)\u001b[49m\n",
      "File \u001b[0;32m/opt/conda/lib/python3.10/site-packages/huggingface_hub/utils/_validators.py:118\u001b[0m, in \u001b[0;36mvalidate_hf_hub_args.<locals>._inner_fn\u001b[0;34m(*args, **kwargs)\u001b[0m\n\u001b[1;32m    115\u001b[0m \u001b[38;5;28;01mif\u001b[39;00m check_use_auth_token:\n\u001b[1;32m    116\u001b[0m     kwargs \u001b[38;5;241m=\u001b[39m smoothly_deprecate_use_auth_token(fn_name\u001b[38;5;241m=\u001b[39mfn\u001b[38;5;241m.\u001b[39m\u001b[38;5;18m__name__\u001b[39m, has_token\u001b[38;5;241m=\u001b[39mhas_token, kwargs\u001b[38;5;241m=\u001b[39mkwargs)\n\u001b[0;32m--> 118\u001b[0m \u001b[38;5;28;01mreturn\u001b[39;00m \u001b[43mfn\u001b[49m\u001b[43m(\u001b[49m\u001b[38;5;241;43m*\u001b[39;49m\u001b[43margs\u001b[49m\u001b[43m,\u001b[49m\u001b[43m \u001b[49m\u001b[38;5;241;43m*\u001b[39;49m\u001b[38;5;241;43m*\u001b[39;49m\u001b[43mkwargs\u001b[49m\u001b[43m)\u001b[49m\n",
      "File \u001b[0;32m/opt/conda/lib/python3.10/site-packages/huggingface_hub/utils/_headers.py:122\u001b[0m, in \u001b[0;36mbuild_hf_headers\u001b[0;34m(token, is_write_action, library_name, library_version, user_agent)\u001b[0m\n\u001b[1;32m    120\u001b[0m \u001b[38;5;66;03m# Get auth token to send\u001b[39;00m\n\u001b[1;32m    121\u001b[0m token_to_send \u001b[38;5;241m=\u001b[39m get_token_to_send(token)\n\u001b[0;32m--> 122\u001b[0m \u001b[43m_validate_token_to_send\u001b[49m\u001b[43m(\u001b[49m\u001b[43mtoken_to_send\u001b[49m\u001b[43m,\u001b[49m\u001b[43m \u001b[49m\u001b[43mis_write_action\u001b[49m\u001b[38;5;241;43m=\u001b[39;49m\u001b[43mis_write_action\u001b[49m\u001b[43m)\u001b[49m\n\u001b[1;32m    124\u001b[0m \u001b[38;5;66;03m# Combine headers\u001b[39;00m\n\u001b[1;32m    125\u001b[0m headers \u001b[38;5;241m=\u001b[39m {\n\u001b[1;32m    126\u001b[0m     \u001b[38;5;124m\"\u001b[39m\u001b[38;5;124muser-agent\u001b[39m\u001b[38;5;124m\"\u001b[39m: _http_user_agent(\n\u001b[1;32m    127\u001b[0m         library_name\u001b[38;5;241m=\u001b[39mlibrary_name,\n\u001b[0;32m   (...)\u001b[0m\n\u001b[1;32m    130\u001b[0m     )\n\u001b[1;32m    131\u001b[0m }\n",
      "File \u001b[0;32m/opt/conda/lib/python3.10/site-packages/huggingface_hub/utils/_headers.py:172\u001b[0m, in \u001b[0;36m_validate_token_to_send\u001b[0;34m(token, is_write_action)\u001b[0m\n\u001b[1;32m    170\u001b[0m \u001b[38;5;28;01mif\u001b[39;00m is_write_action:\n\u001b[1;32m    171\u001b[0m     \u001b[38;5;28;01mif\u001b[39;00m token \u001b[38;5;129;01mis\u001b[39;00m \u001b[38;5;28;01mNone\u001b[39;00m:\n\u001b[0;32m--> 172\u001b[0m         \u001b[38;5;28;01mraise\u001b[39;00m \u001b[38;5;167;01mValueError\u001b[39;00m(\n\u001b[1;32m    173\u001b[0m             \u001b[38;5;124m\"\u001b[39m\u001b[38;5;124mToken is required (write-access action) but no token found. You need\u001b[39m\u001b[38;5;124m\"\u001b[39m\n\u001b[1;32m    174\u001b[0m             \u001b[38;5;124m\"\u001b[39m\u001b[38;5;124m to provide a token or be logged in to Hugging Face with\u001b[39m\u001b[38;5;124m\"\u001b[39m\n\u001b[1;32m    175\u001b[0m             \u001b[38;5;124m\"\u001b[39m\u001b[38;5;124m `huggingface-cli login` or `huggingface_hub.login`. See\u001b[39m\u001b[38;5;124m\"\u001b[39m\n\u001b[1;32m    176\u001b[0m             \u001b[38;5;124m\"\u001b[39m\u001b[38;5;124m https://huggingface.co/settings/tokens.\u001b[39m\u001b[38;5;124m\"\u001b[39m\n\u001b[1;32m    177\u001b[0m         )\n\u001b[1;32m    178\u001b[0m     \u001b[38;5;28;01mif\u001b[39;00m token\u001b[38;5;241m.\u001b[39mstartswith(\u001b[38;5;124m\"\u001b[39m\u001b[38;5;124mapi_org\u001b[39m\u001b[38;5;124m\"\u001b[39m):\n\u001b[1;32m    179\u001b[0m         \u001b[38;5;28;01mraise\u001b[39;00m \u001b[38;5;167;01mValueError\u001b[39;00m(\n\u001b[1;32m    180\u001b[0m             \u001b[38;5;124m\"\u001b[39m\u001b[38;5;124mYou must use your personal account token for write-access methods. To\u001b[39m\u001b[38;5;124m\"\u001b[39m\n\u001b[1;32m    181\u001b[0m             \u001b[38;5;124m\"\u001b[39m\u001b[38;5;124m generate a write-access token, go to\u001b[39m\u001b[38;5;124m\"\u001b[39m\n\u001b[1;32m    182\u001b[0m             \u001b[38;5;124m\"\u001b[39m\u001b[38;5;124m https://huggingface.co/settings/tokens\u001b[39m\u001b[38;5;124m\"\u001b[39m\n\u001b[1;32m    183\u001b[0m         )\n",
      "\u001b[0;31mValueError\u001b[0m: Token is required (write-access action) but no token found. You need to provide a token or be logged in to Hugging Face with `huggingface-cli login` or `huggingface_hub.login`. See https://huggingface.co/settings/tokens."
     ]
    }
   ],
   "source": [
    "early_sopping = EarlyStopping(\n",
    "     monitor='val_accuarcy',\n",
    "     patience=3\n",
    ")\n",
    "\n",
    "model_chkpt = ModelCheckpoint(\n",
    "    filepath='models/checkpoints',\n",
    "    monitor='val_accuracy',\n",
    "    save_best_only=True,\n",
    "    mode='max',\n",
    "    verbose=1\n",
    ")\n",
    "\n",
    "board = TensorBoard(\n",
    "    log_dir=os.path.join(OUTPUT_DIR, 'logs'),\n",
    "    update_freq='batch'\n",
    ")\n",
    "\n",
    "to_hub = PushToHubCallback(\n",
    "    output_dir=OUTPUT_DIR,\n",
    "    hub_model_id=HUB_MODEL_ID,\n",
    ")\n",
    "\n",
    "callbacks = [early_sopping, model_chkpt, board, to_hub]"
   ]
  },
  {
   "cell_type": "markdown",
   "id": "94945ed3",
   "metadata": {
    "papermill": {
     "duration": null,
     "end_time": null,
     "exception": null,
     "start_time": null,
     "status": "pending"
    },
    "tags": []
   },
   "source": [
    "Learning Rate Decay."
   ]
  },
  {
   "cell_type": "code",
   "execution_count": null,
   "id": "be221d1d",
   "metadata": {
    "execution": {
     "iopub.execute_input": "2023-12-02T19:45:25.067526Z",
     "iopub.status.busy": "2023-12-02T19:45:25.067271Z",
     "iopub.status.idle": "2023-12-02T19:45:25.072226Z",
     "shell.execute_reply": "2023-12-02T19:45:25.071250Z",
     "shell.execute_reply.started": "2023-12-02T19:45:25.067503Z"
    },
    "papermill": {
     "duration": null,
     "end_time": null,
     "exception": null,
     "start_time": null,
     "status": "pending"
    },
    "tags": []
   },
   "outputs": [],
   "source": [
    "update_steps = EPOCHS * BATCH_SIZE\n",
    "lr_scheduler = CosineDecay(\n",
    "    initial_learning_rate=0.001,\n",
    "    decay_steps=update_steps,\n",
    ")"
   ]
  },
  {
   "cell_type": "markdown",
   "id": "f699a01a",
   "metadata": {
    "papermill": {
     "duration": null,
     "end_time": null,
     "exception": null,
     "start_time": null,
     "status": "pending"
    },
    "tags": []
   },
   "source": [
    "Optimizer & Loss."
   ]
  },
  {
   "cell_type": "code",
   "execution_count": null,
   "id": "1db909ad",
   "metadata": {
    "execution": {
     "iopub.execute_input": "2023-12-02T19:45:25.073649Z",
     "iopub.status.busy": "2023-12-02T19:45:25.073380Z",
     "iopub.status.idle": "2023-12-02T19:45:25.102540Z",
     "shell.execute_reply": "2023-12-02T19:45:25.101835Z",
     "shell.execute_reply.started": "2023-12-02T19:45:25.073625Z"
    },
    "papermill": {
     "duration": null,
     "end_time": null,
     "exception": null,
     "start_time": null,
     "status": "pending"
    },
    "tags": []
   },
   "outputs": [],
   "source": [
    "optimizer = SGD(\n",
    "    learning_rate=lr_scheduler,\n",
    "    momentum=0.9,\n",
    "    global_clipnorm=1\n",
    ")\n",
    "\n",
    "loss = SparseCategoricalCrossentropy(from_logits=True)"
   ]
  },
  {
   "cell_type": "code",
   "execution_count": null,
   "id": "8e34ec6b",
   "metadata": {
    "execution": {
     "iopub.execute_input": "2023-12-02T19:45:25.103762Z",
     "iopub.status.busy": "2023-12-02T19:45:25.103499Z",
     "iopub.status.idle": "2023-12-02T19:45:25.120726Z",
     "shell.execute_reply": "2023-12-02T19:45:25.119922Z",
     "shell.execute_reply.started": "2023-12-02T19:45:25.103737Z"
    },
    "papermill": {
     "duration": null,
     "end_time": null,
     "exception": null,
     "start_time": null,
     "status": "pending"
    },
    "tags": []
   },
   "outputs": [],
   "source": [
    "vit.compile(\n",
    "    optimizer=optimizer,\n",
    "    loss=loss,\n",
    "    metrics=['accuracy'],\n",
    ")"
   ]
  },
  {
   "cell_type": "markdown",
   "id": "15dcbe63",
   "metadata": {
    "papermill": {
     "duration": null,
     "end_time": null,
     "exception": null,
     "start_time": null,
     "status": "pending"
    },
    "tags": []
   },
   "source": [
    "#### Fine-tuning"
   ]
  },
  {
   "cell_type": "code",
   "execution_count": null,
   "id": "306cdd70",
   "metadata": {
    "execution": {
     "iopub.execute_input": "2023-12-02T19:47:46.112981Z",
     "iopub.status.busy": "2023-12-02T19:47:46.112221Z",
     "iopub.status.idle": "2023-12-02T22:03:29.383457Z",
     "shell.execute_reply": "2023-12-02T22:03:29.382495Z",
     "shell.execute_reply.started": "2023-12-02T19:47:46.112931Z"
    },
    "papermill": {
     "duration": null,
     "end_time": null,
     "exception": null,
     "start_time": null,
     "status": "pending"
    },
    "tags": []
   },
   "outputs": [],
   "source": [
    "vit.fit(\n",
    "    tf_training_dataset,\n",
    "    validation_data=tf_validation_dataset,\n",
    "    callbacks=callbacks,\n",
    "    epochs=EPOCHS,\n",
    "    batch_size=BATCH_SIZE\n",
    ")"
   ]
  },
  {
   "cell_type": "code",
   "execution_count": null,
   "id": "f72d68c7",
   "metadata": {
    "execution": {
     "iopub.execute_input": "2023-12-02T22:09:07.678122Z",
     "iopub.status.busy": "2023-12-02T22:09:07.677187Z",
     "iopub.status.idle": "2023-12-02T22:09:10.094808Z",
     "shell.execute_reply": "2023-12-02T22:09:10.093698Z",
     "shell.execute_reply.started": "2023-12-02T22:09:07.678083Z"
    },
    "papermill": {
     "duration": null,
     "end_time": null,
     "exception": null,
     "start_time": null,
     "status": "pending"
    },
    "tags": []
   },
   "outputs": [],
   "source": [
    "vit.push_to_hub('vit-base-patch16-224-in21k-leukemia', commit_message=\"end of fine-tuning\")"
   ]
  },
  {
   "cell_type": "code",
   "execution_count": null,
   "id": "a805b862",
   "metadata": {
    "execution": {
     "iopub.execute_input": "2023-12-02T22:11:45.226051Z",
     "iopub.status.busy": "2023-12-02T22:11:45.225646Z",
     "iopub.status.idle": "2023-12-02T22:11:45.566084Z",
     "shell.execute_reply": "2023-12-02T22:11:45.565169Z",
     "shell.execute_reply.started": "2023-12-02T22:11:45.226020Z"
    },
    "papermill": {
     "duration": null,
     "end_time": null,
     "exception": null,
     "start_time": null,
     "status": "pending"
    },
    "tags": []
   },
   "outputs": [],
   "source": [
    "vit.config.label2id = LABEL2ID\n",
    "vit.config.id2label = ID2LABEL\n",
    "vit.config.push_to_hub('vit-base-patch16-224-in21k-leukemia')"
   ]
  },
  {
   "cell_type": "code",
   "execution_count": null,
   "id": "3a70b4c9",
   "metadata": {
    "execution": {
     "iopub.execute_input": "2023-12-02T22:15:57.805644Z",
     "iopub.status.busy": "2023-12-02T22:15:57.804770Z",
     "iopub.status.idle": "2023-12-02T22:15:58.139789Z",
     "shell.execute_reply": "2023-12-02T22:15:58.138975Z",
     "shell.execute_reply.started": "2023-12-02T22:15:57.805610Z"
    },
    "papermill": {
     "duration": null,
     "end_time": null,
     "exception": null,
     "start_time": null,
     "status": "pending"
    },
    "tags": []
   },
   "outputs": [],
   "source": [
    "from huggingface_hub import HfApi\n",
    "\n",
    "api = HfApi()\n",
    "\n",
    "user = api.whoami()\n",
    "\n",
    "\n",
    "vit_preprocessor.save_pretrained(OUTPUT_DIR)\n",
    "\n",
    "api.upload_file(\n",
    "    repo_id=f\"{user['name']}/{HUB_MODEL_ID}\",\n",
    "    path_or_fileobj=os.path.join(OUTPUT_DIR, \"preprocessor_config.json\"),\n",
    "    path_in_repo=\"preprocessor_config.json\",\n",
    ")\n"
   ]
  }
 ],
 "metadata": {
  "kaggle": {
   "accelerator": "gpu",
   "dataSources": [
    {
     "datasetId": 849724,
     "sourceId": 1449674,
     "sourceType": "datasetVersion"
    }
   ],
   "dockerImageVersionId": 30588,
   "isGpuEnabled": true,
   "isInternetEnabled": true,
   "language": "python",
   "sourceType": "notebook"
  },
  "kernelspec": {
   "display_name": "Python 3",
   "language": "python",
   "name": "python3"
  },
  "language_info": {
   "codemirror_mode": {
    "name": "ipython",
    "version": 3
   },
   "file_extension": ".py",
   "mimetype": "text/x-python",
   "name": "python",
   "nbconvert_exporter": "python",
   "pygments_lexer": "ipython3",
   "version": "3.10.12"
  },
  "papermill": {
   "default_parameters": {},
   "duration": 303.555174,
   "end_time": "2023-12-02T22:38:29.877767",
   "environment_variables": {},
   "exception": true,
   "input_path": "__notebook__.ipynb",
   "output_path": "__notebook__.ipynb",
   "parameters": {},
   "start_time": "2023-12-02T22:33:26.322593",
   "version": "2.4.0"
  },
  "widgets": {
   "application/vnd.jupyter.widget-state+json": {
    "state": {
     "04cc259b58f24658ba2bcf1c8c8a618f": {
      "model_module": "@jupyter-widgets/controls",
      "model_module_version": "1.5.0",
      "model_name": "HTMLModel",
      "state": {
       "_dom_classes": [],
       "_model_module": "@jupyter-widgets/controls",
       "_model_module_version": "1.5.0",
       "_model_name": "HTMLModel",
       "_view_count": null,
       "_view_module": "@jupyter-widgets/controls",
       "_view_module_version": "1.5.0",
       "_view_name": "HTMLView",
       "description": "",
       "description_tooltip": null,
       "layout": "IPY_MODEL_156cc8d228a945c8aeb6d92fdb81fe0a",
       "placeholder": "​",
       "style": "IPY_MODEL_0801ee1798aa400ab602bc935ab2ca8c",
       "value": "100%"
      }
     },
     "06725c72daf545b0a77d4e009c9cddaf": {
      "model_module": "@jupyter-widgets/controls",
      "model_module_version": "1.5.0",
      "model_name": "HTMLModel",
      "state": {
       "_dom_classes": [],
       "_model_module": "@jupyter-widgets/controls",
       "_model_module_version": "1.5.0",
       "_model_name": "HTMLModel",
       "_view_count": null,
       "_view_module": "@jupyter-widgets/controls",
       "_view_module_version": "1.5.0",
       "_view_name": "HTMLView",
       "description": "",
       "description_tooltip": null,
       "layout": "IPY_MODEL_29e8c0c9b1b943e9a84a7121e2c2f85b",
       "placeholder": "​",
       "style": "IPY_MODEL_65d5dfb008ed4886a7694b57bfca6ad8",
       "value": " 346M/346M [00:01&lt;00:00, 340MB/s]"
      }
     },
     "07beb8fba563491681eb5e70cbf63a7a": {
      "model_module": "@jupyter-widgets/base",
      "model_module_version": "1.2.0",
      "model_name": "LayoutModel",
      "state": {
       "_model_module": "@jupyter-widgets/base",
       "_model_module_version": "1.2.0",
       "_model_name": "LayoutModel",
       "_view_count": null,
       "_view_module": "@jupyter-widgets/base",
       "_view_module_version": "1.2.0",
       "_view_name": "LayoutView",
       "align_content": null,
       "align_items": null,
       "align_self": null,
       "border": null,
       "bottom": null,
       "display": null,
       "flex": null,
       "flex_flow": null,
       "grid_area": null,
       "grid_auto_columns": null,
       "grid_auto_flow": null,
       "grid_auto_rows": null,
       "grid_column": null,
       "grid_gap": null,
       "grid_row": null,
       "grid_template_areas": null,
       "grid_template_columns": null,
       "grid_template_rows": null,
       "height": null,
       "justify_content": null,
       "justify_items": null,
       "left": null,
       "margin": null,
       "max_height": null,
       "max_width": null,
       "min_height": null,
       "min_width": null,
       "object_fit": null,
       "object_position": null,
       "order": null,
       "overflow": null,
       "overflow_x": null,
       "overflow_y": null,
       "padding": null,
       "right": null,
       "top": null,
       "visibility": null,
       "width": null
      }
     },
     "0801ee1798aa400ab602bc935ab2ca8c": {
      "model_module": "@jupyter-widgets/controls",
      "model_module_version": "1.5.0",
      "model_name": "DescriptionStyleModel",
      "state": {
       "_model_module": "@jupyter-widgets/controls",
       "_model_module_version": "1.5.0",
       "_model_name": "DescriptionStyleModel",
       "_view_count": null,
       "_view_module": "@jupyter-widgets/base",
       "_view_module_version": "1.2.0",
       "_view_name": "StyleView",
       "description_width": ""
      }
     },
     "0bcbeaa8b624490ea48fbcfb866d7b5a": {
      "model_module": "@jupyter-widgets/controls",
      "model_module_version": "1.5.0",
      "model_name": "HTMLModel",
      "state": {
       "_dom_classes": [],
       "_model_module": "@jupyter-widgets/controls",
       "_model_module_version": "1.5.0",
       "_model_name": "HTMLModel",
       "_view_count": null,
       "_view_module": "@jupyter-widgets/controls",
       "_view_module_version": "1.5.0",
       "_view_name": "HTMLView",
       "description": "",
       "description_tooltip": null,
       "layout": "IPY_MODEL_de483101a75b4c21b3a407408479c5b4",
       "placeholder": "​",
       "style": "IPY_MODEL_9ce1a4eae29b4449a5f6f902554ce1a6",
       "value": "<center> <img\nsrc=https://huggingface.co/front/assets/huggingface_logo-noborder.svg\nalt='Hugging Face'> <br> Copy a token from <a\nhref=\"https://huggingface.co/settings/tokens\" target=\"_blank\">your Hugging Face\ntokens page</a> and paste it below. <br> Immediately click login after copying\nyour token or it might be stored in plain text in this notebook file. </center>"
      }
     },
     "0eb4d79ae6544e86a0f7ef3d26c3196b": {
      "model_module": "@jupyter-widgets/controls",
      "model_module_version": "1.5.0",
      "model_name": "HTMLModel",
      "state": {
       "_dom_classes": [],
       "_model_module": "@jupyter-widgets/controls",
       "_model_module_version": "1.5.0",
       "_model_name": "HTMLModel",
       "_view_count": null,
       "_view_module": "@jupyter-widgets/controls",
       "_view_module_version": "1.5.0",
       "_view_name": "HTMLView",
       "description": "",
       "description_tooltip": null,
       "layout": "IPY_MODEL_855036fcb69c4862a378764e64acd7c4",
       "placeholder": "​",
       "style": "IPY_MODEL_905e8a9f2a404b15adf4ba01ef1bd677",
       "value": " 160/160 [00:00&lt;00:00, 13.5kB/s]"
      }
     },
     "0f8094e181e842c98db8a519cb3b6285": {
      "model_module": "@jupyter-widgets/controls",
      "model_module_version": "1.5.0",
      "model_name": "HBoxModel",
      "state": {
       "_dom_classes": [],
       "_model_module": "@jupyter-widgets/controls",
       "_model_module_version": "1.5.0",
       "_model_name": "HBoxModel",
       "_view_count": null,
       "_view_module": "@jupyter-widgets/controls",
       "_view_module_version": "1.5.0",
       "_view_name": "HBoxView",
       "box_style": "",
       "children": [
        "IPY_MODEL_29f34453d5bc471795ce53c4554db8b4",
        "IPY_MODEL_d8ad4482fd5848b1afa1ef45cc9abf98",
        "IPY_MODEL_87d5b4deac82477b9ec21c2211c00071"
       ],
       "layout": "IPY_MODEL_85972dc7a9fb41edb8eaeeb2f66662fd"
      }
     },
     "12c39c145d904fab9473734fcc87f063": {
      "model_module": "@jupyter-widgets/controls",
      "model_module_version": "1.5.0",
      "model_name": "VBoxModel",
      "state": {
       "_dom_classes": [],
       "_model_module": "@jupyter-widgets/controls",
       "_model_module_version": "1.5.0",
       "_model_name": "VBoxModel",
       "_view_count": null,
       "_view_module": "@jupyter-widgets/controls",
       "_view_module_version": "1.5.0",
       "_view_name": "VBoxView",
       "box_style": "",
       "children": [
        "IPY_MODEL_0bcbeaa8b624490ea48fbcfb866d7b5a",
        "IPY_MODEL_f6e45c02f44e4c77858f3c9c14896136",
        "IPY_MODEL_8f63df7adcea454eb9622330951e17e5",
        "IPY_MODEL_22c66d5082ba499aade15892d49a1704",
        "IPY_MODEL_f096620125bc447f9d81f7758280a4a1"
       ],
       "layout": "IPY_MODEL_ade5f090af134ca094e781e2089db0cc"
      }
     },
     "156cc8d228a945c8aeb6d92fdb81fe0a": {
      "model_module": "@jupyter-widgets/base",
      "model_module_version": "1.2.0",
      "model_name": "LayoutModel",
      "state": {
       "_model_module": "@jupyter-widgets/base",
       "_model_module_version": "1.2.0",
       "_model_name": "LayoutModel",
       "_view_count": null,
       "_view_module": "@jupyter-widgets/base",
       "_view_module_version": "1.2.0",
       "_view_name": "LayoutView",
       "align_content": null,
       "align_items": null,
       "align_self": null,
       "border": null,
       "bottom": null,
       "display": null,
       "flex": null,
       "flex_flow": null,
       "grid_area": null,
       "grid_auto_columns": null,
       "grid_auto_flow": null,
       "grid_auto_rows": null,
       "grid_column": null,
       "grid_gap": null,
       "grid_row": null,
       "grid_template_areas": null,
       "grid_template_columns": null,
       "grid_template_rows": null,
       "height": null,
       "justify_content": null,
       "justify_items": null,
       "left": null,
       "margin": null,
       "max_height": null,
       "max_width": null,
       "min_height": null,
       "min_width": null,
       "object_fit": null,
       "object_position": null,
       "order": null,
       "overflow": null,
       "overflow_x": null,
       "overflow_y": null,
       "padding": null,
       "right": null,
       "top": null,
       "visibility": null,
       "width": null
      }
     },
     "175a3129aaa04fdfb4a39b2daaed7d25": {
      "model_module": "@jupyter-widgets/base",
      "model_module_version": "1.2.0",
      "model_name": "LayoutModel",
      "state": {
       "_model_module": "@jupyter-widgets/base",
       "_model_module_version": "1.2.0",
       "_model_name": "LayoutModel",
       "_view_count": null,
       "_view_module": "@jupyter-widgets/base",
       "_view_module_version": "1.2.0",
       "_view_name": "LayoutView",
       "align_content": null,
       "align_items": null,
       "align_self": null,
       "border": null,
       "bottom": null,
       "display": null,
       "flex": null,
       "flex_flow": null,
       "grid_area": null,
       "grid_auto_columns": null,
       "grid_auto_flow": null,
       "grid_auto_rows": null,
       "grid_column": null,
       "grid_gap": null,
       "grid_row": null,
       "grid_template_areas": null,
       "grid_template_columns": null,
       "grid_template_rows": null,
       "height": null,
       "justify_content": null,
       "justify_items": null,
       "left": null,
       "margin": null,
       "max_height": null,
       "max_width": null,
       "min_height": null,
       "min_width": null,
       "object_fit": null,
       "object_position": null,
       "order": null,
       "overflow": null,
       "overflow_x": null,
       "overflow_y": null,
       "padding": null,
       "right": null,
       "top": null,
       "visibility": null,
       "width": null
      }
     },
     "17bd461218d844a48d8a4e671334c8c2": {
      "model_module": "@jupyter-widgets/controls",
      "model_module_version": "1.5.0",
      "model_name": "FloatProgressModel",
      "state": {
       "_dom_classes": [],
       "_model_module": "@jupyter-widgets/controls",
       "_model_module_version": "1.5.0",
       "_model_name": "FloatProgressModel",
       "_view_count": null,
       "_view_module": "@jupyter-widgets/controls",
       "_view_module_version": "1.5.0",
       "_view_name": "ProgressView",
       "bar_style": "success",
       "description": "",
       "description_tooltip": null,
       "layout": "IPY_MODEL_50029a9422f547b89912aca0a4aac460",
       "max": 2,
       "min": 0,
       "orientation": "horizontal",
       "style": "IPY_MODEL_e639982f730143bab4e42c77c45a6c2f",
       "value": 2
      }
     },
     "18fb934e422341d0a1902228b64671ef": {
      "model_module": "@jupyter-widgets/base",
      "model_module_version": "1.2.0",
      "model_name": "LayoutModel",
      "state": {
       "_model_module": "@jupyter-widgets/base",
       "_model_module_version": "1.2.0",
       "_model_name": "LayoutModel",
       "_view_count": null,
       "_view_module": "@jupyter-widgets/base",
       "_view_module_version": "1.2.0",
       "_view_name": "LayoutView",
       "align_content": null,
       "align_items": null,
       "align_self": null,
       "border": null,
       "bottom": null,
       "display": null,
       "flex": null,
       "flex_flow": null,
       "grid_area": null,
       "grid_auto_columns": null,
       "grid_auto_flow": null,
       "grid_auto_rows": null,
       "grid_column": null,
       "grid_gap": null,
       "grid_row": null,
       "grid_template_areas": null,
       "grid_template_columns": null,
       "grid_template_rows": null,
       "height": null,
       "justify_content": null,
       "justify_items": null,
       "left": null,
       "margin": null,
       "max_height": null,
       "max_width": null,
       "min_height": null,
       "min_width": null,
       "object_fit": null,
       "object_position": null,
       "order": null,
       "overflow": null,
       "overflow_x": null,
       "overflow_y": null,
       "padding": null,
       "right": null,
       "top": null,
       "visibility": null,
       "width": null
      }
     },
     "22c66d5082ba499aade15892d49a1704": {
      "model_module": "@jupyter-widgets/controls",
      "model_module_version": "1.5.0",
      "model_name": "ButtonModel",
      "state": {
       "_dom_classes": [],
       "_model_module": "@jupyter-widgets/controls",
       "_model_module_version": "1.5.0",
       "_model_name": "ButtonModel",
       "_view_count": null,
       "_view_module": "@jupyter-widgets/controls",
       "_view_module_version": "1.5.0",
       "_view_name": "ButtonView",
       "button_style": "",
       "description": "Login",
       "disabled": false,
       "icon": "",
       "layout": "IPY_MODEL_d83dcfc925a543d4a7ca41a9b54df670",
       "style": "IPY_MODEL_f3f1795602354df6a3884ae6ca5e2095",
       "tooltip": ""
      }
     },
     "29e8c0c9b1b943e9a84a7121e2c2f85b": {
      "model_module": "@jupyter-widgets/base",
      "model_module_version": "1.2.0",
      "model_name": "LayoutModel",
      "state": {
       "_model_module": "@jupyter-widgets/base",
       "_model_module_version": "1.2.0",
       "_model_name": "LayoutModel",
       "_view_count": null,
       "_view_module": "@jupyter-widgets/base",
       "_view_module_version": "1.2.0",
       "_view_name": "LayoutView",
       "align_content": null,
       "align_items": null,
       "align_self": null,
       "border": null,
       "bottom": null,
       "display": null,
       "flex": null,
       "flex_flow": null,
       "grid_area": null,
       "grid_auto_columns": null,
       "grid_auto_flow": null,
       "grid_auto_rows": null,
       "grid_column": null,
       "grid_gap": null,
       "grid_row": null,
       "grid_template_areas": null,
       "grid_template_columns": null,
       "grid_template_rows": null,
       "height": null,
       "justify_content": null,
       "justify_items": null,
       "left": null,
       "margin": null,
       "max_height": null,
       "max_width": null,
       "min_height": null,
       "min_width": null,
       "object_fit": null,
       "object_position": null,
       "order": null,
       "overflow": null,
       "overflow_x": null,
       "overflow_y": null,
       "padding": null,
       "right": null,
       "top": null,
       "visibility": null,
       "width": null
      }
     },
     "29f34453d5bc471795ce53c4554db8b4": {
      "model_module": "@jupyter-widgets/controls",
      "model_module_version": "1.5.0",
      "model_name": "HTMLModel",
      "state": {
       "_dom_classes": [],
       "_model_module": "@jupyter-widgets/controls",
       "_model_module_version": "1.5.0",
       "_model_name": "HTMLModel",
       "_view_count": null,
       "_view_module": "@jupyter-widgets/controls",
       "_view_module_version": "1.5.0",
       "_view_name": "HTMLView",
       "description": "",
       "description_tooltip": null,
       "layout": "IPY_MODEL_a1e5bc5748ea4ad7a7e1205b912b4a3a",
       "placeholder": "​",
       "style": "IPY_MODEL_9e053ff8516e420cb27d6f636027dc25",
       "value": "100%"
      }
     },
     "3a86e22e29964fd5a83ae29dfb95c705": {
      "model_module": "@jupyter-widgets/controls",
      "model_module_version": "1.5.0",
      "model_name": "ProgressStyleModel",
      "state": {
       "_model_module": "@jupyter-widgets/controls",
       "_model_module_version": "1.5.0",
       "_model_name": "ProgressStyleModel",
       "_view_count": null,
       "_view_module": "@jupyter-widgets/base",
       "_view_module_version": "1.2.0",
       "_view_name": "StyleView",
       "bar_color": null,
       "description_width": ""
      }
     },
     "3b41ecc2e4f0436db22cf137862391ea": {
      "model_module": "@jupyter-widgets/controls",
      "model_module_version": "1.5.0",
      "model_name": "HTMLModel",
      "state": {
       "_dom_classes": [],
       "_model_module": "@jupyter-widgets/controls",
       "_model_module_version": "1.5.0",
       "_model_name": "HTMLModel",
       "_view_count": null,
       "_view_module": "@jupyter-widgets/controls",
       "_view_module_version": "1.5.0",
       "_view_name": "HTMLView",
       "description": "",
       "description_tooltip": null,
       "layout": "IPY_MODEL_595d7809c65f4ac3b831bf904ce623f3",
       "placeholder": "​",
       "style": "IPY_MODEL_f4b191887a1544a89de82907e36ab00f",
       "value": "Downloading tf_model.h5: 100%"
      }
     },
     "411b615316eb4f498f84d6b87fdd230a": {
      "model_module": "@jupyter-widgets/controls",
      "model_module_version": "1.5.0",
      "model_name": "FloatProgressModel",
      "state": {
       "_dom_classes": [],
       "_model_module": "@jupyter-widgets/controls",
       "_model_module_version": "1.5.0",
       "_model_name": "FloatProgressModel",
       "_view_count": null,
       "_view_module": "@jupyter-widgets/controls",
       "_view_module_version": "1.5.0",
       "_view_name": "ProgressView",
       "bar_style": "success",
       "description": "",
       "description_tooltip": null,
       "layout": "IPY_MODEL_d79f429cae474c99b1da83a782ac321f",
       "max": 160,
       "min": 0,
       "orientation": "horizontal",
       "style": "IPY_MODEL_d28779e29d0144d4ab71f002fde18013",
       "value": 160
      }
     },
     "50029a9422f547b89912aca0a4aac460": {
      "model_module": "@jupyter-widgets/base",
      "model_module_version": "1.2.0",
      "model_name": "LayoutModel",
      "state": {
       "_model_module": "@jupyter-widgets/base",
       "_model_module_version": "1.2.0",
       "_model_name": "LayoutModel",
       "_view_count": null,
       "_view_module": "@jupyter-widgets/base",
       "_view_module_version": "1.2.0",
       "_view_name": "LayoutView",
       "align_content": null,
       "align_items": null,
       "align_self": null,
       "border": null,
       "bottom": null,
       "display": null,
       "flex": null,
       "flex_flow": null,
       "grid_area": null,
       "grid_auto_columns": null,
       "grid_auto_flow": null,
       "grid_auto_rows": null,
       "grid_column": null,
       "grid_gap": null,
       "grid_row": null,
       "grid_template_areas": null,
       "grid_template_columns": null,
       "grid_template_rows": null,
       "height": null,
       "justify_content": null,
       "justify_items": null,
       "left": null,
       "margin": null,
       "max_height": null,
       "max_width": null,
       "min_height": null,
       "min_width": null,
       "object_fit": null,
       "object_position": null,
       "order": null,
       "overflow": null,
       "overflow_x": null,
       "overflow_y": null,
       "padding": null,
       "right": null,
       "top": null,
       "visibility": null,
       "width": null
      }
     },
     "539b5da3544842b1a0701f3e5b6747c1": {
      "model_module": "@jupyter-widgets/controls",
      "model_module_version": "1.5.0",
      "model_name": "ProgressStyleModel",
      "state": {
       "_model_module": "@jupyter-widgets/controls",
       "_model_module_version": "1.5.0",
       "_model_name": "ProgressStyleModel",
       "_view_count": null,
       "_view_module": "@jupyter-widgets/base",
       "_view_module_version": "1.2.0",
       "_view_name": "StyleView",
       "bar_color": null,
       "description_width": ""
      }
     },
     "5608e653efd9410c9533a2f084b41c2b": {
      "model_module": "@jupyter-widgets/base",
      "model_module_version": "1.2.0",
      "model_name": "LayoutModel",
      "state": {
       "_model_module": "@jupyter-widgets/base",
       "_model_module_version": "1.2.0",
       "_model_name": "LayoutModel",
       "_view_count": null,
       "_view_module": "@jupyter-widgets/base",
       "_view_module_version": "1.2.0",
       "_view_name": "LayoutView",
       "align_content": null,
       "align_items": null,
       "align_self": null,
       "border": null,
       "bottom": null,
       "display": null,
       "flex": null,
       "flex_flow": null,
       "grid_area": null,
       "grid_auto_columns": null,
       "grid_auto_flow": null,
       "grid_auto_rows": null,
       "grid_column": null,
       "grid_gap": null,
       "grid_row": null,
       "grid_template_areas": null,
       "grid_template_columns": null,
       "grid_template_rows": null,
       "height": null,
       "justify_content": null,
       "justify_items": null,
       "left": null,
       "margin": null,
       "max_height": null,
       "max_width": null,
       "min_height": null,
       "min_width": null,
       "object_fit": null,
       "object_position": null,
       "order": null,
       "overflow": null,
       "overflow_x": null,
       "overflow_y": null,
       "padding": null,
       "right": null,
       "top": null,
       "visibility": null,
       "width": null
      }
     },
     "5775661c66214b0a825fbfa1e48cc349": {
      "model_module": "@jupyter-widgets/base",
      "model_module_version": "1.2.0",
      "model_name": "LayoutModel",
      "state": {
       "_model_module": "@jupyter-widgets/base",
       "_model_module_version": "1.2.0",
       "_model_name": "LayoutModel",
       "_view_count": null,
       "_view_module": "@jupyter-widgets/base",
       "_view_module_version": "1.2.0",
       "_view_name": "LayoutView",
       "align_content": null,
       "align_items": null,
       "align_self": null,
       "border": null,
       "bottom": null,
       "display": null,
       "flex": null,
       "flex_flow": null,
       "grid_area": null,
       "grid_auto_columns": null,
       "grid_auto_flow": null,
       "grid_auto_rows": null,
       "grid_column": null,
       "grid_gap": null,
       "grid_row": null,
       "grid_template_areas": null,
       "grid_template_columns": null,
       "grid_template_rows": null,
       "height": null,
       "justify_content": null,
       "justify_items": null,
       "left": null,
       "margin": null,
       "max_height": null,
       "max_width": null,
       "min_height": null,
       "min_width": null,
       "object_fit": null,
       "object_position": null,
       "order": null,
       "overflow": null,
       "overflow_x": null,
       "overflow_y": null,
       "padding": null,
       "right": null,
       "top": null,
       "visibility": null,
       "width": null
      }
     },
     "57c09455df37408d95c140f1229e0cc4": {
      "model_module": "@jupyter-widgets/controls",
      "model_module_version": "1.5.0",
      "model_name": "HBoxModel",
      "state": {
       "_dom_classes": [],
       "_model_module": "@jupyter-widgets/controls",
       "_model_module_version": "1.5.0",
       "_model_name": "HBoxModel",
       "_view_count": null,
       "_view_module": "@jupyter-widgets/controls",
       "_view_module_version": "1.5.0",
       "_view_name": "HBoxView",
       "box_style": "",
       "children": [
        "IPY_MODEL_3b41ecc2e4f0436db22cf137862391ea",
        "IPY_MODEL_632f8e44fb354080b527dea66a3f5cf0",
        "IPY_MODEL_06725c72daf545b0a77d4e009c9cddaf"
       ],
       "layout": "IPY_MODEL_5775661c66214b0a825fbfa1e48cc349"
      }
     },
     "595d7809c65f4ac3b831bf904ce623f3": {
      "model_module": "@jupyter-widgets/base",
      "model_module_version": "1.2.0",
      "model_name": "LayoutModel",
      "state": {
       "_model_module": "@jupyter-widgets/base",
       "_model_module_version": "1.2.0",
       "_model_name": "LayoutModel",
       "_view_count": null,
       "_view_module": "@jupyter-widgets/base",
       "_view_module_version": "1.2.0",
       "_view_name": "LayoutView",
       "align_content": null,
       "align_items": null,
       "align_self": null,
       "border": null,
       "bottom": null,
       "display": null,
       "flex": null,
       "flex_flow": null,
       "grid_area": null,
       "grid_auto_columns": null,
       "grid_auto_flow": null,
       "grid_auto_rows": null,
       "grid_column": null,
       "grid_gap": null,
       "grid_row": null,
       "grid_template_areas": null,
       "grid_template_columns": null,
       "grid_template_rows": null,
       "height": null,
       "justify_content": null,
       "justify_items": null,
       "left": null,
       "margin": null,
       "max_height": null,
       "max_width": null,
       "min_height": null,
       "min_width": null,
       "object_fit": null,
       "object_position": null,
       "order": null,
       "overflow": null,
       "overflow_x": null,
       "overflow_y": null,
       "padding": null,
       "right": null,
       "top": null,
       "visibility": null,
       "width": null
      }
     },
     "5a75330c916a418b9faa5b3abfda6d66": {
      "model_module": "@jupyter-widgets/controls",
      "model_module_version": "1.5.0",
      "model_name": "HBoxModel",
      "state": {
       "_dom_classes": [],
       "_model_module": "@jupyter-widgets/controls",
       "_model_module_version": "1.5.0",
       "_model_name": "HBoxModel",
       "_view_count": null,
       "_view_module": "@jupyter-widgets/controls",
       "_view_module_version": "1.5.0",
       "_view_name": "HBoxView",
       "box_style": "",
       "children": [
        "IPY_MODEL_ad937a05ec0d4dfda5b036714268d8a2",
        "IPY_MODEL_ba964ea226df4c46bbf54333c26cb98c",
        "IPY_MODEL_c0f90a9cb5ee4beca6af58dc04c76c59"
       ],
       "layout": "IPY_MODEL_8e4cd7221ca04679961d324fa898da0a"
      }
     },
     "5b4f24521cfc4da6be679714ec17b9a9": {
      "model_module": "@jupyter-widgets/base",
      "model_module_version": "1.2.0",
      "model_name": "LayoutModel",
      "state": {
       "_model_module": "@jupyter-widgets/base",
       "_model_module_version": "1.2.0",
       "_model_name": "LayoutModel",
       "_view_count": null,
       "_view_module": "@jupyter-widgets/base",
       "_view_module_version": "1.2.0",
       "_view_name": "LayoutView",
       "align_content": null,
       "align_items": null,
       "align_self": null,
       "border": null,
       "bottom": null,
       "display": null,
       "flex": null,
       "flex_flow": null,
       "grid_area": null,
       "grid_auto_columns": null,
       "grid_auto_flow": null,
       "grid_auto_rows": null,
       "grid_column": null,
       "grid_gap": null,
       "grid_row": null,
       "grid_template_areas": null,
       "grid_template_columns": null,
       "grid_template_rows": null,
       "height": null,
       "justify_content": null,
       "justify_items": null,
       "left": null,
       "margin": null,
       "max_height": null,
       "max_width": null,
       "min_height": null,
       "min_width": null,
       "object_fit": null,
       "object_position": null,
       "order": null,
       "overflow": null,
       "overflow_x": null,
       "overflow_y": null,
       "padding": null,
       "right": null,
       "top": null,
       "visibility": null,
       "width": null
      }
     },
     "5f6ace5e641b4904837d166c9b6ae1dc": {
      "model_module": "@jupyter-widgets/controls",
      "model_module_version": "1.5.0",
      "model_name": "DescriptionStyleModel",
      "state": {
       "_model_module": "@jupyter-widgets/controls",
       "_model_module_version": "1.5.0",
       "_model_name": "DescriptionStyleModel",
       "_view_count": null,
       "_view_module": "@jupyter-widgets/base",
       "_view_module_version": "1.2.0",
       "_view_name": "StyleView",
       "description_width": ""
      }
     },
     "632f8e44fb354080b527dea66a3f5cf0": {
      "model_module": "@jupyter-widgets/controls",
      "model_module_version": "1.5.0",
      "model_name": "FloatProgressModel",
      "state": {
       "_dom_classes": [],
       "_model_module": "@jupyter-widgets/controls",
       "_model_module_version": "1.5.0",
       "_model_name": "FloatProgressModel",
       "_view_count": null,
       "_view_module": "@jupyter-widgets/controls",
       "_view_module_version": "1.5.0",
       "_view_name": "ProgressView",
       "bar_style": "success",
       "description": "",
       "description_tooltip": null,
       "layout": "IPY_MODEL_5608e653efd9410c9533a2f084b41c2b",
       "max": 345823776,
       "min": 0,
       "orientation": "horizontal",
       "style": "IPY_MODEL_539b5da3544842b1a0701f3e5b6747c1",
       "value": 345823776
      }
     },
     "65d5dfb008ed4886a7694b57bfca6ad8": {
      "model_module": "@jupyter-widgets/controls",
      "model_module_version": "1.5.0",
      "model_name": "DescriptionStyleModel",
      "state": {
       "_model_module": "@jupyter-widgets/controls",
       "_model_module_version": "1.5.0",
       "_model_name": "DescriptionStyleModel",
       "_view_count": null,
       "_view_module": "@jupyter-widgets/base",
       "_view_module_version": "1.2.0",
       "_view_name": "StyleView",
       "description_width": ""
      }
     },
     "6645ea3dc2944cbdb5d63d07a32515b9": {
      "model_module": "@jupyter-widgets/controls",
      "model_module_version": "1.5.0",
      "model_name": "HBoxModel",
      "state": {
       "_dom_classes": [],
       "_model_module": "@jupyter-widgets/controls",
       "_model_module_version": "1.5.0",
       "_model_name": "HBoxModel",
       "_view_count": null,
       "_view_module": "@jupyter-widgets/controls",
       "_view_module_version": "1.5.0",
       "_view_name": "HBoxView",
       "box_style": "",
       "children": [
        "IPY_MODEL_9ae657bb25544454bcbba325aae32566",
        "IPY_MODEL_411b615316eb4f498f84d6b87fdd230a",
        "IPY_MODEL_0eb4d79ae6544e86a0f7ef3d26c3196b"
       ],
       "layout": "IPY_MODEL_e10214b850c34901a7f81070dc9e75a7"
      }
     },
     "81e439031663441eb047e8cd5f82f590": {
      "model_module": "@jupyter-widgets/controls",
      "model_module_version": "1.5.0",
      "model_name": "DescriptionStyleModel",
      "state": {
       "_model_module": "@jupyter-widgets/controls",
       "_model_module_version": "1.5.0",
       "_model_name": "DescriptionStyleModel",
       "_view_count": null,
       "_view_module": "@jupyter-widgets/base",
       "_view_module_version": "1.2.0",
       "_view_name": "StyleView",
       "description_width": ""
      }
     },
     "855036fcb69c4862a378764e64acd7c4": {
      "model_module": "@jupyter-widgets/base",
      "model_module_version": "1.2.0",
      "model_name": "LayoutModel",
      "state": {
       "_model_module": "@jupyter-widgets/base",
       "_model_module_version": "1.2.0",
       "_model_name": "LayoutModel",
       "_view_count": null,
       "_view_module": "@jupyter-widgets/base",
       "_view_module_version": "1.2.0",
       "_view_name": "LayoutView",
       "align_content": null,
       "align_items": null,
       "align_self": null,
       "border": null,
       "bottom": null,
       "display": null,
       "flex": null,
       "flex_flow": null,
       "grid_area": null,
       "grid_auto_columns": null,
       "grid_auto_flow": null,
       "grid_auto_rows": null,
       "grid_column": null,
       "grid_gap": null,
       "grid_row": null,
       "grid_template_areas": null,
       "grid_template_columns": null,
       "grid_template_rows": null,
       "height": null,
       "justify_content": null,
       "justify_items": null,
       "left": null,
       "margin": null,
       "max_height": null,
       "max_width": null,
       "min_height": null,
       "min_width": null,
       "object_fit": null,
       "object_position": null,
       "order": null,
       "overflow": null,
       "overflow_x": null,
       "overflow_y": null,
       "padding": null,
       "right": null,
       "top": null,
       "visibility": null,
       "width": null
      }
     },
     "85972dc7a9fb41edb8eaeeb2f66662fd": {
      "model_module": "@jupyter-widgets/base",
      "model_module_version": "1.2.0",
      "model_name": "LayoutModel",
      "state": {
       "_model_module": "@jupyter-widgets/base",
       "_model_module_version": "1.2.0",
       "_model_name": "LayoutModel",
       "_view_count": null,
       "_view_module": "@jupyter-widgets/base",
       "_view_module_version": "1.2.0",
       "_view_name": "LayoutView",
       "align_content": null,
       "align_items": null,
       "align_self": null,
       "border": null,
       "bottom": null,
       "display": null,
       "flex": null,
       "flex_flow": null,
       "grid_area": null,
       "grid_auto_columns": null,
       "grid_auto_flow": null,
       "grid_auto_rows": null,
       "grid_column": null,
       "grid_gap": null,
       "grid_row": null,
       "grid_template_areas": null,
       "grid_template_columns": null,
       "grid_template_rows": null,
       "height": null,
       "justify_content": null,
       "justify_items": null,
       "left": null,
       "margin": null,
       "max_height": null,
       "max_width": null,
       "min_height": null,
       "min_width": null,
       "object_fit": null,
       "object_position": null,
       "order": null,
       "overflow": null,
       "overflow_x": null,
       "overflow_y": null,
       "padding": null,
       "right": null,
       "top": null,
       "visibility": null,
       "width": null
      }
     },
     "864c760b2d054759aaacb6f732c6c8c9": {
      "model_module": "@jupyter-widgets/controls",
      "model_module_version": "1.5.0",
      "model_name": "ProgressStyleModel",
      "state": {
       "_model_module": "@jupyter-widgets/controls",
       "_model_module_version": "1.5.0",
       "_model_name": "ProgressStyleModel",
       "_view_count": null,
       "_view_module": "@jupyter-widgets/base",
       "_view_module_version": "1.2.0",
       "_view_name": "StyleView",
       "bar_color": null,
       "description_width": ""
      }
     },
     "87d5b4deac82477b9ec21c2211c00071": {
      "model_module": "@jupyter-widgets/controls",
      "model_module_version": "1.5.0",
      "model_name": "HTMLModel",
      "state": {
       "_dom_classes": [],
       "_model_module": "@jupyter-widgets/controls",
       "_model_module_version": "1.5.0",
       "_model_name": "HTMLModel",
       "_view_count": null,
       "_view_module": "@jupyter-widgets/controls",
       "_view_module_version": "1.5.0",
       "_view_name": "HTMLView",
       "description": "",
       "description_tooltip": null,
       "layout": "IPY_MODEL_5b4f24521cfc4da6be679714ec17b9a9",
       "placeholder": "​",
       "style": "IPY_MODEL_acef19d585e442e8bc7872ea045d7a9f",
       "value": " 11/11 [03:23&lt;00:00, 17.07s/ba]"
      }
     },
     "8b0647932f574b42bde92fa9a773289f": {
      "model_module": "@jupyter-widgets/base",
      "model_module_version": "1.2.0",
      "model_name": "LayoutModel",
      "state": {
       "_model_module": "@jupyter-widgets/base",
       "_model_module_version": "1.2.0",
       "_model_name": "LayoutModel",
       "_view_count": null,
       "_view_module": "@jupyter-widgets/base",
       "_view_module_version": "1.2.0",
       "_view_name": "LayoutView",
       "align_content": null,
       "align_items": null,
       "align_self": null,
       "border": null,
       "bottom": null,
       "display": null,
       "flex": null,
       "flex_flow": null,
       "grid_area": null,
       "grid_auto_columns": null,
       "grid_auto_flow": null,
       "grid_auto_rows": null,
       "grid_column": null,
       "grid_gap": null,
       "grid_row": null,
       "grid_template_areas": null,
       "grid_template_columns": null,
       "grid_template_rows": null,
       "height": null,
       "justify_content": null,
       "justify_items": null,
       "left": null,
       "margin": null,
       "max_height": null,
       "max_width": null,
       "min_height": null,
       "min_width": null,
       "object_fit": null,
       "object_position": null,
       "order": null,
       "overflow": null,
       "overflow_x": null,
       "overflow_y": null,
       "padding": null,
       "right": null,
       "top": null,
       "visibility": null,
       "width": null
      }
     },
     "8e4cd7221ca04679961d324fa898da0a": {
      "model_module": "@jupyter-widgets/base",
      "model_module_version": "1.2.0",
      "model_name": "LayoutModel",
      "state": {
       "_model_module": "@jupyter-widgets/base",
       "_model_module_version": "1.2.0",
       "_model_name": "LayoutModel",
       "_view_count": null,
       "_view_module": "@jupyter-widgets/base",
       "_view_module_version": "1.2.0",
       "_view_name": "LayoutView",
       "align_content": null,
       "align_items": null,
       "align_self": null,
       "border": null,
       "bottom": null,
       "display": null,
       "flex": null,
       "flex_flow": null,
       "grid_area": null,
       "grid_auto_columns": null,
       "grid_auto_flow": null,
       "grid_auto_rows": null,
       "grid_column": null,
       "grid_gap": null,
       "grid_row": null,
       "grid_template_areas": null,
       "grid_template_columns": null,
       "grid_template_rows": null,
       "height": null,
       "justify_content": null,
       "justify_items": null,
       "left": null,
       "margin": null,
       "max_height": null,
       "max_width": null,
       "min_height": null,
       "min_width": null,
       "object_fit": null,
       "object_position": null,
       "order": null,
       "overflow": null,
       "overflow_x": null,
       "overflow_y": null,
       "padding": null,
       "right": null,
       "top": null,
       "visibility": null,
       "width": null
      }
     },
     "8f63df7adcea454eb9622330951e17e5": {
      "model_module": "@jupyter-widgets/controls",
      "model_module_version": "1.5.0",
      "model_name": "CheckboxModel",
      "state": {
       "_dom_classes": [],
       "_model_module": "@jupyter-widgets/controls",
       "_model_module_version": "1.5.0",
       "_model_name": "CheckboxModel",
       "_view_count": null,
       "_view_module": "@jupyter-widgets/controls",
       "_view_module_version": "1.5.0",
       "_view_name": "CheckboxView",
       "description": "Add token as git credential?",
       "description_tooltip": null,
       "disabled": false,
       "indent": true,
       "layout": "IPY_MODEL_960dab7197a64b6f938eb130dcd97bc7",
       "style": "IPY_MODEL_5f6ace5e641b4904837d166c9b6ae1dc",
       "value": true
      }
     },
     "905e8a9f2a404b15adf4ba01ef1bd677": {
      "model_module": "@jupyter-widgets/controls",
      "model_module_version": "1.5.0",
      "model_name": "DescriptionStyleModel",
      "state": {
       "_model_module": "@jupyter-widgets/controls",
       "_model_module_version": "1.5.0",
       "_model_name": "DescriptionStyleModel",
       "_view_count": null,
       "_view_module": "@jupyter-widgets/base",
       "_view_module_version": "1.2.0",
       "_view_name": "StyleView",
       "description_width": ""
      }
     },
     "91377dbd10fa452ea604e61b8b87a021": {
      "model_module": "@jupyter-widgets/base",
      "model_module_version": "1.2.0",
      "model_name": "LayoutModel",
      "state": {
       "_model_module": "@jupyter-widgets/base",
       "_model_module_version": "1.2.0",
       "_model_name": "LayoutModel",
       "_view_count": null,
       "_view_module": "@jupyter-widgets/base",
       "_view_module_version": "1.2.0",
       "_view_name": "LayoutView",
       "align_content": null,
       "align_items": null,
       "align_self": null,
       "border": null,
       "bottom": null,
       "display": null,
       "flex": null,
       "flex_flow": null,
       "grid_area": null,
       "grid_auto_columns": null,
       "grid_auto_flow": null,
       "grid_auto_rows": null,
       "grid_column": null,
       "grid_gap": null,
       "grid_row": null,
       "grid_template_areas": null,
       "grid_template_columns": null,
       "grid_template_rows": null,
       "height": null,
       "justify_content": null,
       "justify_items": null,
       "left": null,
       "margin": null,
       "max_height": null,
       "max_width": null,
       "min_height": null,
       "min_width": null,
       "object_fit": null,
       "object_position": null,
       "order": null,
       "overflow": null,
       "overflow_x": null,
       "overflow_y": null,
       "padding": null,
       "right": null,
       "top": null,
       "visibility": null,
       "width": null
      }
     },
     "960dab7197a64b6f938eb130dcd97bc7": {
      "model_module": "@jupyter-widgets/base",
      "model_module_version": "1.2.0",
      "model_name": "LayoutModel",
      "state": {
       "_model_module": "@jupyter-widgets/base",
       "_model_module_version": "1.2.0",
       "_model_name": "LayoutModel",
       "_view_count": null,
       "_view_module": "@jupyter-widgets/base",
       "_view_module_version": "1.2.0",
       "_view_name": "LayoutView",
       "align_content": null,
       "align_items": null,
       "align_self": null,
       "border": null,
       "bottom": null,
       "display": null,
       "flex": null,
       "flex_flow": null,
       "grid_area": null,
       "grid_auto_columns": null,
       "grid_auto_flow": null,
       "grid_auto_rows": null,
       "grid_column": null,
       "grid_gap": null,
       "grid_row": null,
       "grid_template_areas": null,
       "grid_template_columns": null,
       "grid_template_rows": null,
       "height": null,
       "justify_content": null,
       "justify_items": null,
       "left": null,
       "margin": null,
       "max_height": null,
       "max_width": null,
       "min_height": null,
       "min_width": null,
       "object_fit": null,
       "object_position": null,
       "order": null,
       "overflow": null,
       "overflow_x": null,
       "overflow_y": null,
       "padding": null,
       "right": null,
       "top": null,
       "visibility": null,
       "width": null
      }
     },
     "97b6bb7c2df847e99e49d9822d0414af": {
      "model_module": "@jupyter-widgets/controls",
      "model_module_version": "1.5.0",
      "model_name": "DescriptionStyleModel",
      "state": {
       "_model_module": "@jupyter-widgets/controls",
       "_model_module_version": "1.5.0",
       "_model_name": "DescriptionStyleModel",
       "_view_count": null,
       "_view_module": "@jupyter-widgets/base",
       "_view_module_version": "1.2.0",
       "_view_name": "StyleView",
       "description_width": ""
      }
     },
     "99741ac9356d4cd58b950a9429f1bcab": {
      "model_module": "@jupyter-widgets/controls",
      "model_module_version": "1.5.0",
      "model_name": "DescriptionStyleModel",
      "state": {
       "_model_module": "@jupyter-widgets/controls",
       "_model_module_version": "1.5.0",
       "_model_name": "DescriptionStyleModel",
       "_view_count": null,
       "_view_module": "@jupyter-widgets/base",
       "_view_module_version": "1.2.0",
       "_view_name": "StyleView",
       "description_width": ""
      }
     },
     "9ae657bb25544454bcbba325aae32566": {
      "model_module": "@jupyter-widgets/controls",
      "model_module_version": "1.5.0",
      "model_name": "HTMLModel",
      "state": {
       "_dom_classes": [],
       "_model_module": "@jupyter-widgets/controls",
       "_model_module_version": "1.5.0",
       "_model_name": "HTMLModel",
       "_view_count": null,
       "_view_module": "@jupyter-widgets/controls",
       "_view_module_version": "1.5.0",
       "_view_name": "HTMLView",
       "description": "",
       "description_tooltip": null,
       "layout": "IPY_MODEL_175a3129aaa04fdfb4a39b2daaed7d25",
       "placeholder": "​",
       "style": "IPY_MODEL_97b6bb7c2df847e99e49d9822d0414af",
       "value": "Downloading (…)rocessor_config.json: 100%"
      }
     },
     "9ce1a4eae29b4449a5f6f902554ce1a6": {
      "model_module": "@jupyter-widgets/controls",
      "model_module_version": "1.5.0",
      "model_name": "DescriptionStyleModel",
      "state": {
       "_model_module": "@jupyter-widgets/controls",
       "_model_module_version": "1.5.0",
       "_model_name": "DescriptionStyleModel",
       "_view_count": null,
       "_view_module": "@jupyter-widgets/base",
       "_view_module_version": "1.2.0",
       "_view_name": "StyleView",
       "description_width": ""
      }
     },
     "9e053ff8516e420cb27d6f636027dc25": {
      "model_module": "@jupyter-widgets/controls",
      "model_module_version": "1.5.0",
      "model_name": "DescriptionStyleModel",
      "state": {
       "_model_module": "@jupyter-widgets/controls",
       "_model_module_version": "1.5.0",
       "_model_name": "DescriptionStyleModel",
       "_view_count": null,
       "_view_module": "@jupyter-widgets/base",
       "_view_module_version": "1.2.0",
       "_view_name": "StyleView",
       "description_width": ""
      }
     },
     "a1e5bc5748ea4ad7a7e1205b912b4a3a": {
      "model_module": "@jupyter-widgets/base",
      "model_module_version": "1.2.0",
      "model_name": "LayoutModel",
      "state": {
       "_model_module": "@jupyter-widgets/base",
       "_model_module_version": "1.2.0",
       "_model_name": "LayoutModel",
       "_view_count": null,
       "_view_module": "@jupyter-widgets/base",
       "_view_module_version": "1.2.0",
       "_view_name": "LayoutView",
       "align_content": null,
       "align_items": null,
       "align_self": null,
       "border": null,
       "bottom": null,
       "display": null,
       "flex": null,
       "flex_flow": null,
       "grid_area": null,
       "grid_auto_columns": null,
       "grid_auto_flow": null,
       "grid_auto_rows": null,
       "grid_column": null,
       "grid_gap": null,
       "grid_row": null,
       "grid_template_areas": null,
       "grid_template_columns": null,
       "grid_template_rows": null,
       "height": null,
       "justify_content": null,
       "justify_items": null,
       "left": null,
       "margin": null,
       "max_height": null,
       "max_width": null,
       "min_height": null,
       "min_width": null,
       "object_fit": null,
       "object_position": null,
       "order": null,
       "overflow": null,
       "overflow_x": null,
       "overflow_y": null,
       "padding": null,
       "right": null,
       "top": null,
       "visibility": null,
       "width": null
      }
     },
     "a659d4ce70e6438b98314c04b5eeaf5f": {
      "model_module": "@jupyter-widgets/controls",
      "model_module_version": "1.5.0",
      "model_name": "DescriptionStyleModel",
      "state": {
       "_model_module": "@jupyter-widgets/controls",
       "_model_module_version": "1.5.0",
       "_model_name": "DescriptionStyleModel",
       "_view_count": null,
       "_view_module": "@jupyter-widgets/base",
       "_view_module_version": "1.2.0",
       "_view_name": "StyleView",
       "description_width": ""
      }
     },
     "aae31264c9db49f1937f49d367dbe801": {
      "model_module": "@jupyter-widgets/base",
      "model_module_version": "1.2.0",
      "model_name": "LayoutModel",
      "state": {
       "_model_module": "@jupyter-widgets/base",
       "_model_module_version": "1.2.0",
       "_model_name": "LayoutModel",
       "_view_count": null,
       "_view_module": "@jupyter-widgets/base",
       "_view_module_version": "1.2.0",
       "_view_name": "LayoutView",
       "align_content": null,
       "align_items": null,
       "align_self": null,
       "border": null,
       "bottom": null,
       "display": null,
       "flex": null,
       "flex_flow": null,
       "grid_area": null,
       "grid_auto_columns": null,
       "grid_auto_flow": null,
       "grid_auto_rows": null,
       "grid_column": null,
       "grid_gap": null,
       "grid_row": null,
       "grid_template_areas": null,
       "grid_template_columns": null,
       "grid_template_rows": null,
       "height": null,
       "justify_content": null,
       "justify_items": null,
       "left": null,
       "margin": null,
       "max_height": null,
       "max_width": null,
       "min_height": null,
       "min_width": null,
       "object_fit": null,
       "object_position": null,
       "order": null,
       "overflow": null,
       "overflow_x": null,
       "overflow_y": null,
       "padding": null,
       "right": null,
       "top": null,
       "visibility": null,
       "width": null
      }
     },
     "acef19d585e442e8bc7872ea045d7a9f": {
      "model_module": "@jupyter-widgets/controls",
      "model_module_version": "1.5.0",
      "model_name": "DescriptionStyleModel",
      "state": {
       "_model_module": "@jupyter-widgets/controls",
       "_model_module_version": "1.5.0",
       "_model_name": "DescriptionStyleModel",
       "_view_count": null,
       "_view_module": "@jupyter-widgets/base",
       "_view_module_version": "1.2.0",
       "_view_name": "StyleView",
       "description_width": ""
      }
     },
     "ad937a05ec0d4dfda5b036714268d8a2": {
      "model_module": "@jupyter-widgets/controls",
      "model_module_version": "1.5.0",
      "model_name": "HTMLModel",
      "state": {
       "_dom_classes": [],
       "_model_module": "@jupyter-widgets/controls",
       "_model_module_version": "1.5.0",
       "_model_name": "HTMLModel",
       "_view_count": null,
       "_view_module": "@jupyter-widgets/controls",
       "_view_module_version": "1.5.0",
       "_view_name": "HTMLView",
       "description": "",
       "description_tooltip": null,
       "layout": "IPY_MODEL_8b0647932f574b42bde92fa9a773289f",
       "placeholder": "​",
       "style": "IPY_MODEL_e11e34957fb24e7aa245a56ae1639f8a",
       "value": "Downloading config.json: 100%"
      }
     },
     "ade5f090af134ca094e781e2089db0cc": {
      "model_module": "@jupyter-widgets/base",
      "model_module_version": "1.2.0",
      "model_name": "LayoutModel",
      "state": {
       "_model_module": "@jupyter-widgets/base",
       "_model_module_version": "1.2.0",
       "_model_name": "LayoutModel",
       "_view_count": null,
       "_view_module": "@jupyter-widgets/base",
       "_view_module_version": "1.2.0",
       "_view_name": "LayoutView",
       "align_content": null,
       "align_items": "center",
       "align_self": null,
       "border": null,
       "bottom": null,
       "display": "flex",
       "flex": null,
       "flex_flow": "column",
       "grid_area": null,
       "grid_auto_columns": null,
       "grid_auto_flow": null,
       "grid_auto_rows": null,
       "grid_column": null,
       "grid_gap": null,
       "grid_row": null,
       "grid_template_areas": null,
       "grid_template_columns": null,
       "grid_template_rows": null,
       "height": null,
       "justify_content": null,
       "justify_items": null,
       "left": null,
       "margin": null,
       "max_height": null,
       "max_width": null,
       "min_height": null,
       "min_width": null,
       "object_fit": null,
       "object_position": null,
       "order": null,
       "overflow": null,
       "overflow_x": null,
       "overflow_y": null,
       "padding": null,
       "right": null,
       "top": null,
       "visibility": null,
       "width": "50%"
      }
     },
     "b1f75a7571bd440a86f4d5e75741cff8": {
      "model_module": "@jupyter-widgets/controls",
      "model_module_version": "1.5.0",
      "model_name": "HBoxModel",
      "state": {
       "_dom_classes": [],
       "_model_module": "@jupyter-widgets/controls",
       "_model_module_version": "1.5.0",
       "_model_name": "HBoxModel",
       "_view_count": null,
       "_view_module": "@jupyter-widgets/controls",
       "_view_module_version": "1.5.0",
       "_view_name": "HBoxView",
       "box_style": "",
       "children": [
        "IPY_MODEL_04cc259b58f24658ba2bcf1c8c8a618f",
        "IPY_MODEL_17bd461218d844a48d8a4e671334c8c2",
        "IPY_MODEL_d0936a8f26e54330b33b69698c39ca90"
       ],
       "layout": "IPY_MODEL_c15f697d02df4936b8b1b3478c82c647"
      }
     },
     "ba964ea226df4c46bbf54333c26cb98c": {
      "model_module": "@jupyter-widgets/controls",
      "model_module_version": "1.5.0",
      "model_name": "FloatProgressModel",
      "state": {
       "_dom_classes": [],
       "_model_module": "@jupyter-widgets/controls",
       "_model_module_version": "1.5.0",
       "_model_name": "FloatProgressModel",
       "_view_count": null,
       "_view_module": "@jupyter-widgets/controls",
       "_view_module_version": "1.5.0",
       "_view_name": "ProgressView",
       "bar_style": "success",
       "description": "",
       "description_tooltip": null,
       "layout": "IPY_MODEL_18fb934e422341d0a1902228b64671ef",
       "max": 502,
       "min": 0,
       "orientation": "horizontal",
       "style": "IPY_MODEL_864c760b2d054759aaacb6f732c6c8c9",
       "value": 502
      }
     },
     "c0f90a9cb5ee4beca6af58dc04c76c59": {
      "model_module": "@jupyter-widgets/controls",
      "model_module_version": "1.5.0",
      "model_name": "HTMLModel",
      "state": {
       "_dom_classes": [],
       "_model_module": "@jupyter-widgets/controls",
       "_model_module_version": "1.5.0",
       "_model_name": "HTMLModel",
       "_view_count": null,
       "_view_module": "@jupyter-widgets/controls",
       "_view_module_version": "1.5.0",
       "_view_name": "HTMLView",
       "description": "",
       "description_tooltip": null,
       "layout": "IPY_MODEL_07beb8fba563491681eb5e70cbf63a7a",
       "placeholder": "​",
       "style": "IPY_MODEL_99741ac9356d4cd58b950a9429f1bcab",
       "value": " 502/502 [00:00&lt;00:00, 41.4kB/s]"
      }
     },
     "c15f697d02df4936b8b1b3478c82c647": {
      "model_module": "@jupyter-widgets/base",
      "model_module_version": "1.2.0",
      "model_name": "LayoutModel",
      "state": {
       "_model_module": "@jupyter-widgets/base",
       "_model_module_version": "1.2.0",
       "_model_name": "LayoutModel",
       "_view_count": null,
       "_view_module": "@jupyter-widgets/base",
       "_view_module_version": "1.2.0",
       "_view_name": "LayoutView",
       "align_content": null,
       "align_items": null,
       "align_self": null,
       "border": null,
       "bottom": null,
       "display": null,
       "flex": null,
       "flex_flow": null,
       "grid_area": null,
       "grid_auto_columns": null,
       "grid_auto_flow": null,
       "grid_auto_rows": null,
       "grid_column": null,
       "grid_gap": null,
       "grid_row": null,
       "grid_template_areas": null,
       "grid_template_columns": null,
       "grid_template_rows": null,
       "height": null,
       "justify_content": null,
       "justify_items": null,
       "left": null,
       "margin": null,
       "max_height": null,
       "max_width": null,
       "min_height": null,
       "min_width": null,
       "object_fit": null,
       "object_position": null,
       "order": null,
       "overflow": null,
       "overflow_x": null,
       "overflow_y": null,
       "padding": null,
       "right": null,
       "top": null,
       "visibility": null,
       "width": null
      }
     },
     "cf026af6a02b400a85597ba7f1551148": {
      "model_module": "@jupyter-widgets/base",
      "model_module_version": "1.2.0",
      "model_name": "LayoutModel",
      "state": {
       "_model_module": "@jupyter-widgets/base",
       "_model_module_version": "1.2.0",
       "_model_name": "LayoutModel",
       "_view_count": null,
       "_view_module": "@jupyter-widgets/base",
       "_view_module_version": "1.2.0",
       "_view_name": "LayoutView",
       "align_content": null,
       "align_items": null,
       "align_self": null,
       "border": null,
       "bottom": null,
       "display": null,
       "flex": null,
       "flex_flow": null,
       "grid_area": null,
       "grid_auto_columns": null,
       "grid_auto_flow": null,
       "grid_auto_rows": null,
       "grid_column": null,
       "grid_gap": null,
       "grid_row": null,
       "grid_template_areas": null,
       "grid_template_columns": null,
       "grid_template_rows": null,
       "height": null,
       "justify_content": null,
       "justify_items": null,
       "left": null,
       "margin": null,
       "max_height": null,
       "max_width": null,
       "min_height": null,
       "min_width": null,
       "object_fit": null,
       "object_position": null,
       "order": null,
       "overflow": null,
       "overflow_x": null,
       "overflow_y": null,
       "padding": null,
       "right": null,
       "top": null,
       "visibility": null,
       "width": null
      }
     },
     "d0936a8f26e54330b33b69698c39ca90": {
      "model_module": "@jupyter-widgets/controls",
      "model_module_version": "1.5.0",
      "model_name": "HTMLModel",
      "state": {
       "_dom_classes": [],
       "_model_module": "@jupyter-widgets/controls",
       "_model_module_version": "1.5.0",
       "_model_name": "HTMLModel",
       "_view_count": null,
       "_view_module": "@jupyter-widgets/controls",
       "_view_module_version": "1.5.0",
       "_view_name": "HTMLView",
       "description": "",
       "description_tooltip": null,
       "layout": "IPY_MODEL_91377dbd10fa452ea604e61b8b87a021",
       "placeholder": "​",
       "style": "IPY_MODEL_81e439031663441eb047e8cd5f82f590",
       "value": " 2/2 [00:40&lt;00:00, 20.44s/ba]"
      }
     },
     "d28779e29d0144d4ab71f002fde18013": {
      "model_module": "@jupyter-widgets/controls",
      "model_module_version": "1.5.0",
      "model_name": "ProgressStyleModel",
      "state": {
       "_model_module": "@jupyter-widgets/controls",
       "_model_module_version": "1.5.0",
       "_model_name": "ProgressStyleModel",
       "_view_count": null,
       "_view_module": "@jupyter-widgets/base",
       "_view_module_version": "1.2.0",
       "_view_name": "StyleView",
       "bar_color": null,
       "description_width": ""
      }
     },
     "d79f429cae474c99b1da83a782ac321f": {
      "model_module": "@jupyter-widgets/base",
      "model_module_version": "1.2.0",
      "model_name": "LayoutModel",
      "state": {
       "_model_module": "@jupyter-widgets/base",
       "_model_module_version": "1.2.0",
       "_model_name": "LayoutModel",
       "_view_count": null,
       "_view_module": "@jupyter-widgets/base",
       "_view_module_version": "1.2.0",
       "_view_name": "LayoutView",
       "align_content": null,
       "align_items": null,
       "align_self": null,
       "border": null,
       "bottom": null,
       "display": null,
       "flex": null,
       "flex_flow": null,
       "grid_area": null,
       "grid_auto_columns": null,
       "grid_auto_flow": null,
       "grid_auto_rows": null,
       "grid_column": null,
       "grid_gap": null,
       "grid_row": null,
       "grid_template_areas": null,
       "grid_template_columns": null,
       "grid_template_rows": null,
       "height": null,
       "justify_content": null,
       "justify_items": null,
       "left": null,
       "margin": null,
       "max_height": null,
       "max_width": null,
       "min_height": null,
       "min_width": null,
       "object_fit": null,
       "object_position": null,
       "order": null,
       "overflow": null,
       "overflow_x": null,
       "overflow_y": null,
       "padding": null,
       "right": null,
       "top": null,
       "visibility": null,
       "width": null
      }
     },
     "d83dcfc925a543d4a7ca41a9b54df670": {
      "model_module": "@jupyter-widgets/base",
      "model_module_version": "1.2.0",
      "model_name": "LayoutModel",
      "state": {
       "_model_module": "@jupyter-widgets/base",
       "_model_module_version": "1.2.0",
       "_model_name": "LayoutModel",
       "_view_count": null,
       "_view_module": "@jupyter-widgets/base",
       "_view_module_version": "1.2.0",
       "_view_name": "LayoutView",
       "align_content": null,
       "align_items": null,
       "align_self": null,
       "border": null,
       "bottom": null,
       "display": null,
       "flex": null,
       "flex_flow": null,
       "grid_area": null,
       "grid_auto_columns": null,
       "grid_auto_flow": null,
       "grid_auto_rows": null,
       "grid_column": null,
       "grid_gap": null,
       "grid_row": null,
       "grid_template_areas": null,
       "grid_template_columns": null,
       "grid_template_rows": null,
       "height": null,
       "justify_content": null,
       "justify_items": null,
       "left": null,
       "margin": null,
       "max_height": null,
       "max_width": null,
       "min_height": null,
       "min_width": null,
       "object_fit": null,
       "object_position": null,
       "order": null,
       "overflow": null,
       "overflow_x": null,
       "overflow_y": null,
       "padding": null,
       "right": null,
       "top": null,
       "visibility": null,
       "width": null
      }
     },
     "d8ad4482fd5848b1afa1ef45cc9abf98": {
      "model_module": "@jupyter-widgets/controls",
      "model_module_version": "1.5.0",
      "model_name": "FloatProgressModel",
      "state": {
       "_dom_classes": [],
       "_model_module": "@jupyter-widgets/controls",
       "_model_module_version": "1.5.0",
       "_model_name": "FloatProgressModel",
       "_view_count": null,
       "_view_module": "@jupyter-widgets/controls",
       "_view_module_version": "1.5.0",
       "_view_name": "ProgressView",
       "bar_style": "success",
       "description": "",
       "description_tooltip": null,
       "layout": "IPY_MODEL_de78d812d1674cf3abb3efae55a99698",
       "max": 11,
       "min": 0,
       "orientation": "horizontal",
       "style": "IPY_MODEL_3a86e22e29964fd5a83ae29dfb95c705",
       "value": 11
      }
     },
     "de483101a75b4c21b3a407408479c5b4": {
      "model_module": "@jupyter-widgets/base",
      "model_module_version": "1.2.0",
      "model_name": "LayoutModel",
      "state": {
       "_model_module": "@jupyter-widgets/base",
       "_model_module_version": "1.2.0",
       "_model_name": "LayoutModel",
       "_view_count": null,
       "_view_module": "@jupyter-widgets/base",
       "_view_module_version": "1.2.0",
       "_view_name": "LayoutView",
       "align_content": null,
       "align_items": null,
       "align_self": null,
       "border": null,
       "bottom": null,
       "display": null,
       "flex": null,
       "flex_flow": null,
       "grid_area": null,
       "grid_auto_columns": null,
       "grid_auto_flow": null,
       "grid_auto_rows": null,
       "grid_column": null,
       "grid_gap": null,
       "grid_row": null,
       "grid_template_areas": null,
       "grid_template_columns": null,
       "grid_template_rows": null,
       "height": null,
       "justify_content": null,
       "justify_items": null,
       "left": null,
       "margin": null,
       "max_height": null,
       "max_width": null,
       "min_height": null,
       "min_width": null,
       "object_fit": null,
       "object_position": null,
       "order": null,
       "overflow": null,
       "overflow_x": null,
       "overflow_y": null,
       "padding": null,
       "right": null,
       "top": null,
       "visibility": null,
       "width": null
      }
     },
     "de78d812d1674cf3abb3efae55a99698": {
      "model_module": "@jupyter-widgets/base",
      "model_module_version": "1.2.0",
      "model_name": "LayoutModel",
      "state": {
       "_model_module": "@jupyter-widgets/base",
       "_model_module_version": "1.2.0",
       "_model_name": "LayoutModel",
       "_view_count": null,
       "_view_module": "@jupyter-widgets/base",
       "_view_module_version": "1.2.0",
       "_view_name": "LayoutView",
       "align_content": null,
       "align_items": null,
       "align_self": null,
       "border": null,
       "bottom": null,
       "display": null,
       "flex": null,
       "flex_flow": null,
       "grid_area": null,
       "grid_auto_columns": null,
       "grid_auto_flow": null,
       "grid_auto_rows": null,
       "grid_column": null,
       "grid_gap": null,
       "grid_row": null,
       "grid_template_areas": null,
       "grid_template_columns": null,
       "grid_template_rows": null,
       "height": null,
       "justify_content": null,
       "justify_items": null,
       "left": null,
       "margin": null,
       "max_height": null,
       "max_width": null,
       "min_height": null,
       "min_width": null,
       "object_fit": null,
       "object_position": null,
       "order": null,
       "overflow": null,
       "overflow_x": null,
       "overflow_y": null,
       "padding": null,
       "right": null,
       "top": null,
       "visibility": null,
       "width": null
      }
     },
     "e10214b850c34901a7f81070dc9e75a7": {
      "model_module": "@jupyter-widgets/base",
      "model_module_version": "1.2.0",
      "model_name": "LayoutModel",
      "state": {
       "_model_module": "@jupyter-widgets/base",
       "_model_module_version": "1.2.0",
       "_model_name": "LayoutModel",
       "_view_count": null,
       "_view_module": "@jupyter-widgets/base",
       "_view_module_version": "1.2.0",
       "_view_name": "LayoutView",
       "align_content": null,
       "align_items": null,
       "align_self": null,
       "border": null,
       "bottom": null,
       "display": null,
       "flex": null,
       "flex_flow": null,
       "grid_area": null,
       "grid_auto_columns": null,
       "grid_auto_flow": null,
       "grid_auto_rows": null,
       "grid_column": null,
       "grid_gap": null,
       "grid_row": null,
       "grid_template_areas": null,
       "grid_template_columns": null,
       "grid_template_rows": null,
       "height": null,
       "justify_content": null,
       "justify_items": null,
       "left": null,
       "margin": null,
       "max_height": null,
       "max_width": null,
       "min_height": null,
       "min_width": null,
       "object_fit": null,
       "object_position": null,
       "order": null,
       "overflow": null,
       "overflow_x": null,
       "overflow_y": null,
       "padding": null,
       "right": null,
       "top": null,
       "visibility": null,
       "width": null
      }
     },
     "e11e34957fb24e7aa245a56ae1639f8a": {
      "model_module": "@jupyter-widgets/controls",
      "model_module_version": "1.5.0",
      "model_name": "DescriptionStyleModel",
      "state": {
       "_model_module": "@jupyter-widgets/controls",
       "_model_module_version": "1.5.0",
       "_model_name": "DescriptionStyleModel",
       "_view_count": null,
       "_view_module": "@jupyter-widgets/base",
       "_view_module_version": "1.2.0",
       "_view_name": "StyleView",
       "description_width": ""
      }
     },
     "e251cb8eca8146118806ff190fa62e94": {
      "model_module": "@jupyter-widgets/controls",
      "model_module_version": "1.5.0",
      "model_name": "DescriptionStyleModel",
      "state": {
       "_model_module": "@jupyter-widgets/controls",
       "_model_module_version": "1.5.0",
       "_model_name": "DescriptionStyleModel",
       "_view_count": null,
       "_view_module": "@jupyter-widgets/base",
       "_view_module_version": "1.2.0",
       "_view_name": "StyleView",
       "description_width": ""
      }
     },
     "e639982f730143bab4e42c77c45a6c2f": {
      "model_module": "@jupyter-widgets/controls",
      "model_module_version": "1.5.0",
      "model_name": "ProgressStyleModel",
      "state": {
       "_model_module": "@jupyter-widgets/controls",
       "_model_module_version": "1.5.0",
       "_model_name": "ProgressStyleModel",
       "_view_count": null,
       "_view_module": "@jupyter-widgets/base",
       "_view_module_version": "1.2.0",
       "_view_name": "StyleView",
       "bar_color": null,
       "description_width": ""
      }
     },
     "f096620125bc447f9d81f7758280a4a1": {
      "model_module": "@jupyter-widgets/controls",
      "model_module_version": "1.5.0",
      "model_name": "HTMLModel",
      "state": {
       "_dom_classes": [],
       "_model_module": "@jupyter-widgets/controls",
       "_model_module_version": "1.5.0",
       "_model_name": "HTMLModel",
       "_view_count": null,
       "_view_module": "@jupyter-widgets/controls",
       "_view_module_version": "1.5.0",
       "_view_name": "HTMLView",
       "description": "",
       "description_tooltip": null,
       "layout": "IPY_MODEL_aae31264c9db49f1937f49d367dbe801",
       "placeholder": "​",
       "style": "IPY_MODEL_e251cb8eca8146118806ff190fa62e94",
       "value": "\n<b>Pro Tip:</b> If you don't already have one, you can create a dedicated\n'notebooks' token with 'write' access, that you can then easily reuse for all\nnotebooks. </center>"
      }
     },
     "f3f1795602354df6a3884ae6ca5e2095": {
      "model_module": "@jupyter-widgets/controls",
      "model_module_version": "1.5.0",
      "model_name": "ButtonStyleModel",
      "state": {
       "_model_module": "@jupyter-widgets/controls",
       "_model_module_version": "1.5.0",
       "_model_name": "ButtonStyleModel",
       "_view_count": null,
       "_view_module": "@jupyter-widgets/base",
       "_view_module_version": "1.2.0",
       "_view_name": "StyleView",
       "button_color": null,
       "font_weight": ""
      }
     },
     "f4b191887a1544a89de82907e36ab00f": {
      "model_module": "@jupyter-widgets/controls",
      "model_module_version": "1.5.0",
      "model_name": "DescriptionStyleModel",
      "state": {
       "_model_module": "@jupyter-widgets/controls",
       "_model_module_version": "1.5.0",
       "_model_name": "DescriptionStyleModel",
       "_view_count": null,
       "_view_module": "@jupyter-widgets/base",
       "_view_module_version": "1.2.0",
       "_view_name": "StyleView",
       "description_width": ""
      }
     },
     "f6e45c02f44e4c77858f3c9c14896136": {
      "model_module": "@jupyter-widgets/controls",
      "model_module_version": "1.5.0",
      "model_name": "PasswordModel",
      "state": {
       "_dom_classes": [],
       "_model_module": "@jupyter-widgets/controls",
       "_model_module_version": "1.5.0",
       "_model_name": "PasswordModel",
       "_view_count": null,
       "_view_module": "@jupyter-widgets/controls",
       "_view_module_version": "1.5.0",
       "_view_name": "PasswordView",
       "continuous_update": true,
       "description": "Token:",
       "description_tooltip": null,
       "disabled": false,
       "layout": "IPY_MODEL_cf026af6a02b400a85597ba7f1551148",
       "placeholder": "​",
       "style": "IPY_MODEL_a659d4ce70e6438b98314c04b5eeaf5f",
       "value": ""
      }
     }
    },
    "version_major": 2,
    "version_minor": 0
   }
  }
 },
 "nbformat": 4,
 "nbformat_minor": 5
}
